{
 "cells": [
  {
   "cell_type": "code",
   "execution_count": 39,
   "outputs": [
    {
     "name": "stdout",
     "output_type": "stream",
     "text": [
      "The autoreload extension is already loaded. To reload it, use:\n",
      "  %reload_ext autoreload\n"
     ]
    }
   ],
   "source": [
    "%load_ext autoreload\n",
    "%autoreload 2"
   ],
   "metadata": {
    "collapsed": false,
    "ExecuteTime": {
     "end_time": "2024-12-01T13:05:42.137049400Z",
     "start_time": "2024-12-01T13:05:41.615191800Z"
    }
   }
  },
  {
   "cell_type": "code",
   "execution_count": 40,
   "outputs": [],
   "source": [
    "import os\n",
    "import pandas as pd\n",
    "import numpy as np\n",
    "import matplotlib.pyplot as plt\n",
    "\n",
    "results_tables = {\n",
    "    'planner_2000': '../../experiments_sim/results/experiments_planner_2000_results.csv',\n",
    "    'planner_200': '../../experiments_sim/results/experiments_planner_200_results.csv',\n",
    "    'handmade': '../../experiments_sim/results/experiments_handmade_results.csv',\n",
    "}\n",
    "\n",
    "dataframes = {\n",
    "    key: pd.read_csv(value) for key, value in results_tables.items()\n",
    "}"
   ],
   "metadata": {
    "collapsed": false,
    "ExecuteTime": {
     "end_time": "2024-12-01T13:05:43.467290600Z",
     "start_time": "2024-12-01T13:05:42.117871Z"
    }
   }
  },
  {
   "cell_type": "code",
   "execution_count": 41,
   "outputs": [],
   "source": [
    "from data_processing.process_experiments_results import experiments_results_to_empirical_vd_table, add_state_likelihood_column, vd_table_to_empirical_voa_table"
   ],
   "metadata": {
    "collapsed": false,
    "ExecuteTime": {
     "end_time": "2024-12-01T13:05:43.637541600Z",
     "start_time": "2024-12-01T13:05:43.474330Z"
    }
   }
  },
  {
   "cell_type": "code",
   "execution_count": 42,
   "outputs": [
    {
     "data": {
      "text/plain": "       experiment_id  belief_idx  state_idx  help_config_idx_local  \\\n0                  2           0          0                      0   \n1                  3           0          0                      1   \n2                  4           0          0                      2   \n3                  5           0          0                      3   \n4                  6           0          0                      4   \n...              ...         ...        ...                    ...   \n29995          30746          74          9                     35   \n29996          30747          74          9                     36   \n29997          30748          74          9                     37   \n29998          30749          74          9                     38   \n29999          30750          74          9                     39   \n\n                                              belief_mus  \\\n0      [[-0.6707883940438972, -0.6738849536583333], [...   \n1      [[-0.6707883940438972, -0.6738849536583333], [...   \n2      [[-0.6707883940438972, -0.6738849536583333], [...   \n3      [[-0.6707883940438972, -0.6738849536583333], [...   \n4      [[-0.6707883940438972, -0.6738849536583333], [...   \n...                                                  ...   \n29995  [[-0.8614196147988208, -0.8442979929675404], [...   \n29996  [[-0.8614196147988208, -0.8442979929675404], [...   \n29997  [[-0.8614196147988208, -0.8442979929675404], [...   \n29998  [[-0.8614196147988208, -0.8442979929675404], [...   \n29999  [[-0.8614196147988208, -0.8442979929675404], [...   \n\n                                           belief_sigmas  \\\n0      [[0.03341828090770939, 0.10977154734804455], [...   \n1      [[0.03341828090770939, 0.10977154734804455], [...   \n2      [[0.03341828090770939, 0.10977154734804455], [...   \n3      [[0.03341828090770939, 0.10977154734804455], [...   \n4      [[0.03341828090770939, 0.10977154734804455], [...   \n...                                                  ...   \n29995  [[0.1525726469243322, 0.021790876647558723], [...   \n29996  [[0.1525726469243322, 0.021790876647558723], [...   \n29997  [[0.1525726469243322, 0.021790876647558723], [...   \n29998  [[0.1525726469243322, 0.021790876647558723], [...   \n29999  [[0.1525726469243322, 0.021790876647558723], [...   \n\n                                                   state  \\\n0      [[-0.6717436420397124, -0.6061821316477612], [...   \n1      [[-0.6717436420397124, -0.6061821316477612], [...   \n2      [[-0.6717436420397124, -0.6061821316477612], [...   \n3      [[-0.6717436420397124, -0.6061821316477612], [...   \n4      [[-0.6717436420397124, -0.6061821316477612], [...   \n...                                                  ...   \n29995  [[-0.6782793970560558, -0.768255617825023], [-...   \n29996  [[-0.6782793970560558, -0.768255617825023], [-...   \n29997  [[-0.6782793970560558, -0.768255617825023], [-...   \n29998  [[-0.6782793970560558, -0.768255617825023], [-...   \n29999  [[-0.6782793970560558, -0.768255617825023], [-...   \n\n                                             help_config  \\\n0      [-1.9014330228342988, -1.6991118824551512, -0....   \n1      [-2.1805030081670105, -1.456472553959741, -0.6...   \n2      [-0.6830265903194725, -1.7805955759059928, -0....   \n3      [-2.313662072491533, -1.6991831441213614, -0.9...   \n4      [0.9228154497246033, -1.0492493359058759, 1.40...   \n...                                                  ...   \n29995  [-0.051711371316041865, -2.9592684639786215, 2...   \n29996  [-2.875905677428433, -1.9621849978905317, 1.61...   \n29997  [-1.0297587870734066, -1.0235425218708587, -2....   \n29998  [-1.9733653979535333, -2.169685117404886, -1.2...   \n29999  [-1.1320302642285316, -2.128950117132045, -0.7...   \n\n            conducted_datetime_stamp  accumulated_rewards  episode_lengths  \\\n0      2024-11-21_11-49-55_pid848193             1.750647               20   \n1      2024-11-21_11-49-55_pid848189             1.832796               20   \n2      2024-11-21_11-49-55_pid848201             2.799484               20   \n3      2024-11-21_11-49-55_pid848198             0.743902               20   \n4      2024-11-21_11-49-55_pid848192             4.065761               17   \n...                              ...                  ...              ...   \n29995  2024-11-27_18-12-28_pid521579             1.736880               20   \n29996  2024-11-27_18-12-30_pid521567             0.805218               20   \n29997  2024-11-27_18-12-35_pid521562             2.748605               20   \n29998  2024-11-27_18-12-39_pid521563             0.768619               20   \n29999  2024-11-27_18-12-40_pid521565             2.719504               20   \n\n       n_successful_pickups  n_pickup_attempts  n_detection_from_help  \\\n0                         2                  6                      4   \n1                         2                  3                      2   \n2                         3                  3                      3   \n3                         1                  6                      4   \n4                         4                  5                      4   \n...                     ...                ...                    ...   \n29995                     2                  7                      4   \n29996                     1                  6                      3   \n29997                     3                  5                      3   \n29998                     1                  3                      1   \n29999                     3                  5                      4   \n\n       value_diff      state_likelihood  \n0        0.866670  [157462.73688208545]  \n1        0.948819  [157462.73688208545]  \n2        1.915507  [157462.73688208545]  \n3       -0.140075  [157462.73688208545]  \n4        3.181784  [157462.73688208545]  \n...           ...                   ...  \n29995    1.895581   [580.2651215945734]  \n29996    0.963919   [580.2651215945734]  \n29997    2.907307   [580.2651215945734]  \n29998    0.927320   [580.2651215945734]  \n29999    2.878205   [580.2651215945734]  \n\n[30000 rows x 16 columns]",
      "text/html": "<div>\n<style scoped>\n    .dataframe tbody tr th:only-of-type {\n        vertical-align: middle;\n    }\n\n    .dataframe tbody tr th {\n        vertical-align: top;\n    }\n\n    .dataframe thead th {\n        text-align: right;\n    }\n</style>\n<table border=\"1\" class=\"dataframe\">\n  <thead>\n    <tr style=\"text-align: right;\">\n      <th></th>\n      <th>experiment_id</th>\n      <th>belief_idx</th>\n      <th>state_idx</th>\n      <th>help_config_idx_local</th>\n      <th>belief_mus</th>\n      <th>belief_sigmas</th>\n      <th>state</th>\n      <th>help_config</th>\n      <th>conducted_datetime_stamp</th>\n      <th>accumulated_rewards</th>\n      <th>episode_lengths</th>\n      <th>n_successful_pickups</th>\n      <th>n_pickup_attempts</th>\n      <th>n_detection_from_help</th>\n      <th>value_diff</th>\n      <th>state_likelihood</th>\n    </tr>\n  </thead>\n  <tbody>\n    <tr>\n      <th>0</th>\n      <td>2</td>\n      <td>0</td>\n      <td>0</td>\n      <td>0</td>\n      <td>[[-0.6707883940438972, -0.6738849536583333], [...</td>\n      <td>[[0.03341828090770939, 0.10977154734804455], [...</td>\n      <td>[[-0.6717436420397124, -0.6061821316477612], [...</td>\n      <td>[-1.9014330228342988, -1.6991118824551512, -0....</td>\n      <td>2024-11-21_11-49-55_pid848193</td>\n      <td>1.750647</td>\n      <td>20</td>\n      <td>2</td>\n      <td>6</td>\n      <td>4</td>\n      <td>0.866670</td>\n      <td>[157462.73688208545]</td>\n    </tr>\n    <tr>\n      <th>1</th>\n      <td>3</td>\n      <td>0</td>\n      <td>0</td>\n      <td>1</td>\n      <td>[[-0.6707883940438972, -0.6738849536583333], [...</td>\n      <td>[[0.03341828090770939, 0.10977154734804455], [...</td>\n      <td>[[-0.6717436420397124, -0.6061821316477612], [...</td>\n      <td>[-2.1805030081670105, -1.456472553959741, -0.6...</td>\n      <td>2024-11-21_11-49-55_pid848189</td>\n      <td>1.832796</td>\n      <td>20</td>\n      <td>2</td>\n      <td>3</td>\n      <td>2</td>\n      <td>0.948819</td>\n      <td>[157462.73688208545]</td>\n    </tr>\n    <tr>\n      <th>2</th>\n      <td>4</td>\n      <td>0</td>\n      <td>0</td>\n      <td>2</td>\n      <td>[[-0.6707883940438972, -0.6738849536583333], [...</td>\n      <td>[[0.03341828090770939, 0.10977154734804455], [...</td>\n      <td>[[-0.6717436420397124, -0.6061821316477612], [...</td>\n      <td>[-0.6830265903194725, -1.7805955759059928, -0....</td>\n      <td>2024-11-21_11-49-55_pid848201</td>\n      <td>2.799484</td>\n      <td>20</td>\n      <td>3</td>\n      <td>3</td>\n      <td>3</td>\n      <td>1.915507</td>\n      <td>[157462.73688208545]</td>\n    </tr>\n    <tr>\n      <th>3</th>\n      <td>5</td>\n      <td>0</td>\n      <td>0</td>\n      <td>3</td>\n      <td>[[-0.6707883940438972, -0.6738849536583333], [...</td>\n      <td>[[0.03341828090770939, 0.10977154734804455], [...</td>\n      <td>[[-0.6717436420397124, -0.6061821316477612], [...</td>\n      <td>[-2.313662072491533, -1.6991831441213614, -0.9...</td>\n      <td>2024-11-21_11-49-55_pid848198</td>\n      <td>0.743902</td>\n      <td>20</td>\n      <td>1</td>\n      <td>6</td>\n      <td>4</td>\n      <td>-0.140075</td>\n      <td>[157462.73688208545]</td>\n    </tr>\n    <tr>\n      <th>4</th>\n      <td>6</td>\n      <td>0</td>\n      <td>0</td>\n      <td>4</td>\n      <td>[[-0.6707883940438972, -0.6738849536583333], [...</td>\n      <td>[[0.03341828090770939, 0.10977154734804455], [...</td>\n      <td>[[-0.6717436420397124, -0.6061821316477612], [...</td>\n      <td>[0.9228154497246033, -1.0492493359058759, 1.40...</td>\n      <td>2024-11-21_11-49-55_pid848192</td>\n      <td>4.065761</td>\n      <td>17</td>\n      <td>4</td>\n      <td>5</td>\n      <td>4</td>\n      <td>3.181784</td>\n      <td>[157462.73688208545]</td>\n    </tr>\n    <tr>\n      <th>...</th>\n      <td>...</td>\n      <td>...</td>\n      <td>...</td>\n      <td>...</td>\n      <td>...</td>\n      <td>...</td>\n      <td>...</td>\n      <td>...</td>\n      <td>...</td>\n      <td>...</td>\n      <td>...</td>\n      <td>...</td>\n      <td>...</td>\n      <td>...</td>\n      <td>...</td>\n      <td>...</td>\n    </tr>\n    <tr>\n      <th>29995</th>\n      <td>30746</td>\n      <td>74</td>\n      <td>9</td>\n      <td>35</td>\n      <td>[[-0.8614196147988208, -0.8442979929675404], [...</td>\n      <td>[[0.1525726469243322, 0.021790876647558723], [...</td>\n      <td>[[-0.6782793970560558, -0.768255617825023], [-...</td>\n      <td>[-0.051711371316041865, -2.9592684639786215, 2...</td>\n      <td>2024-11-27_18-12-28_pid521579</td>\n      <td>1.736880</td>\n      <td>20</td>\n      <td>2</td>\n      <td>7</td>\n      <td>4</td>\n      <td>1.895581</td>\n      <td>[580.2651215945734]</td>\n    </tr>\n    <tr>\n      <th>29996</th>\n      <td>30747</td>\n      <td>74</td>\n      <td>9</td>\n      <td>36</td>\n      <td>[[-0.8614196147988208, -0.8442979929675404], [...</td>\n      <td>[[0.1525726469243322, 0.021790876647558723], [...</td>\n      <td>[[-0.6782793970560558, -0.768255617825023], [-...</td>\n      <td>[-2.875905677428433, -1.9621849978905317, 1.61...</td>\n      <td>2024-11-27_18-12-30_pid521567</td>\n      <td>0.805218</td>\n      <td>20</td>\n      <td>1</td>\n      <td>6</td>\n      <td>3</td>\n      <td>0.963919</td>\n      <td>[580.2651215945734]</td>\n    </tr>\n    <tr>\n      <th>29997</th>\n      <td>30748</td>\n      <td>74</td>\n      <td>9</td>\n      <td>37</td>\n      <td>[[-0.8614196147988208, -0.8442979929675404], [...</td>\n      <td>[[0.1525726469243322, 0.021790876647558723], [...</td>\n      <td>[[-0.6782793970560558, -0.768255617825023], [-...</td>\n      <td>[-1.0297587870734066, -1.0235425218708587, -2....</td>\n      <td>2024-11-27_18-12-35_pid521562</td>\n      <td>2.748605</td>\n      <td>20</td>\n      <td>3</td>\n      <td>5</td>\n      <td>3</td>\n      <td>2.907307</td>\n      <td>[580.2651215945734]</td>\n    </tr>\n    <tr>\n      <th>29998</th>\n      <td>30749</td>\n      <td>74</td>\n      <td>9</td>\n      <td>38</td>\n      <td>[[-0.8614196147988208, -0.8442979929675404], [...</td>\n      <td>[[0.1525726469243322, 0.021790876647558723], [...</td>\n      <td>[[-0.6782793970560558, -0.768255617825023], [-...</td>\n      <td>[-1.9733653979535333, -2.169685117404886, -1.2...</td>\n      <td>2024-11-27_18-12-39_pid521563</td>\n      <td>0.768619</td>\n      <td>20</td>\n      <td>1</td>\n      <td>3</td>\n      <td>1</td>\n      <td>0.927320</td>\n      <td>[580.2651215945734]</td>\n    </tr>\n    <tr>\n      <th>29999</th>\n      <td>30750</td>\n      <td>74</td>\n      <td>9</td>\n      <td>39</td>\n      <td>[[-0.8614196147988208, -0.8442979929675404], [...</td>\n      <td>[[0.1525726469243322, 0.021790876647558723], [...</td>\n      <td>[[-0.6782793970560558, -0.768255617825023], [-...</td>\n      <td>[-1.1320302642285316, -2.128950117132045, -0.7...</td>\n      <td>2024-11-27_18-12-40_pid521565</td>\n      <td>2.719504</td>\n      <td>20</td>\n      <td>3</td>\n      <td>5</td>\n      <td>4</td>\n      <td>2.878205</td>\n      <td>[580.2651215945734]</td>\n    </tr>\n  </tbody>\n</table>\n<p>30000 rows × 16 columns</p>\n</div>"
     },
     "execution_count": 42,
     "metadata": {},
     "output_type": "execute_result"
    }
   ],
   "source": [
    "vd_tables = {\n",
    "    key: experiments_results_to_empirical_vd_table(value) for key, value in dataframes.items()\n",
    "}\n",
    "# add state probability column\n",
    "vd_tables = {\n",
    "    key: add_state_likelihood_column(value) for key, value in vd_tables.items()\n",
    "}\n",
    "\n",
    "vd_tables['planner_2000']"
   ],
   "metadata": {
    "collapsed": false,
    "ExecuteTime": {
     "end_time": "2024-12-01T13:06:15.524708800Z",
     "start_time": "2024-12-01T13:05:43.641532100Z"
    }
   }
  },
  {
   "cell_type": "code",
   "execution_count": 43,
   "outputs": [
    {
     "data": {
      "text/plain": "      belief_idx  help_config_idx_local  \\\n0              0                      0   \n1              0                      1   \n2              0                      2   \n3              0                      3   \n4              0                      4   \n...          ...                    ...   \n2995          74                     35   \n2996          74                     36   \n2997          74                     37   \n2998          74                     38   \n2999          74                     39   \n\n                                             belief_mus  \\\n0     [[-0.6707883940438972, -0.6738849536583333], [...   \n1     [[-0.6707883940438972, -0.6738849536583333], [...   \n2     [[-0.6707883940438972, -0.6738849536583333], [...   \n3     [[-0.6707883940438972, -0.6738849536583333], [...   \n4     [[-0.6707883940438972, -0.6738849536583333], [...   \n...                                                 ...   \n2995  [[-0.8614196147988208, -0.8442979929675404], [...   \n2996  [[-0.8614196147988208, -0.8442979929675404], [...   \n2997  [[-0.8614196147988208, -0.8442979929675404], [...   \n2998  [[-0.8614196147988208, -0.8442979929675404], [...   \n2999  [[-0.8614196147988208, -0.8442979929675404], [...   \n\n                                          belief_sigmas  \\\n0     [[0.03341828090770939, 0.10977154734804455], [...   \n1     [[0.03341828090770939, 0.10977154734804455], [...   \n2     [[0.03341828090770939, 0.10977154734804455], [...   \n3     [[0.03341828090770939, 0.10977154734804455], [...   \n4     [[0.03341828090770939, 0.10977154734804455], [...   \n...                                                 ...   \n2995  [[0.1525726469243322, 0.021790876647558723], [...   \n2996  [[0.1525726469243322, 0.021790876647558723], [...   \n2997  [[0.1525726469243322, 0.021790876647558723], [...   \n2998  [[0.1525726469243322, 0.021790876647558723], [...   \n2999  [[0.1525726469243322, 0.021790876647558723], [...   \n\n                                            help_config  empirical_voa  \\\n0     [-1.9014330228342988, -1.6991118824551512, -0....       1.113772   \n1     [-2.1805030081670105, -1.456472553959741, -0.6...       1.674214   \n2     [-0.6830265903194725, -1.7805955759059928, -0....       1.763390   \n3     [-2.313662072491533, -1.6991831441213614, -0.9...       1.254307   \n4     [0.9228154497246033, -1.0492493359058759, 1.40...       2.693015   \n...                                                 ...            ...   \n2995  [-0.051711371316041865, -2.9592684639786215, 2...       1.908491   \n2996  [-2.875905677428433, -1.9621849978905317, 1.61...       1.744808   \n2997  [-1.0297587870734066, -1.0235425218708587, -2....       2.032835   \n2998  [-1.9733653979535333, -2.169685117404886, -1.2...       0.837108   \n2999  [-1.1320302642285316, -2.128950117132045, -0.7...       1.832713   \n\n      empirical_voa_population_variance  \n0                              2.175994  \n1                              0.154106  \n2                              0.878616  \n3                              0.540228  \n4                              0.549727  \n...                                 ...  \n2995                           0.404489  \n2996                           1.273007  \n2997                           0.181955  \n2998                           0.909268  \n2999                           0.473459  \n\n[3000 rows x 7 columns]",
      "text/html": "<div>\n<style scoped>\n    .dataframe tbody tr th:only-of-type {\n        vertical-align: middle;\n    }\n\n    .dataframe tbody tr th {\n        vertical-align: top;\n    }\n\n    .dataframe thead th {\n        text-align: right;\n    }\n</style>\n<table border=\"1\" class=\"dataframe\">\n  <thead>\n    <tr style=\"text-align: right;\">\n      <th></th>\n      <th>belief_idx</th>\n      <th>help_config_idx_local</th>\n      <th>belief_mus</th>\n      <th>belief_sigmas</th>\n      <th>help_config</th>\n      <th>empirical_voa</th>\n      <th>empirical_voa_population_variance</th>\n    </tr>\n  </thead>\n  <tbody>\n    <tr>\n      <th>0</th>\n      <td>0</td>\n      <td>0</td>\n      <td>[[-0.6707883940438972, -0.6738849536583333], [...</td>\n      <td>[[0.03341828090770939, 0.10977154734804455], [...</td>\n      <td>[-1.9014330228342988, -1.6991118824551512, -0....</td>\n      <td>1.113772</td>\n      <td>2.175994</td>\n    </tr>\n    <tr>\n      <th>1</th>\n      <td>0</td>\n      <td>1</td>\n      <td>[[-0.6707883940438972, -0.6738849536583333], [...</td>\n      <td>[[0.03341828090770939, 0.10977154734804455], [...</td>\n      <td>[-2.1805030081670105, -1.456472553959741, -0.6...</td>\n      <td>1.674214</td>\n      <td>0.154106</td>\n    </tr>\n    <tr>\n      <th>2</th>\n      <td>0</td>\n      <td>2</td>\n      <td>[[-0.6707883940438972, -0.6738849536583333], [...</td>\n      <td>[[0.03341828090770939, 0.10977154734804455], [...</td>\n      <td>[-0.6830265903194725, -1.7805955759059928, -0....</td>\n      <td>1.763390</td>\n      <td>0.878616</td>\n    </tr>\n    <tr>\n      <th>3</th>\n      <td>0</td>\n      <td>3</td>\n      <td>[[-0.6707883940438972, -0.6738849536583333], [...</td>\n      <td>[[0.03341828090770939, 0.10977154734804455], [...</td>\n      <td>[-2.313662072491533, -1.6991831441213614, -0.9...</td>\n      <td>1.254307</td>\n      <td>0.540228</td>\n    </tr>\n    <tr>\n      <th>4</th>\n      <td>0</td>\n      <td>4</td>\n      <td>[[-0.6707883940438972, -0.6738849536583333], [...</td>\n      <td>[[0.03341828090770939, 0.10977154734804455], [...</td>\n      <td>[0.9228154497246033, -1.0492493359058759, 1.40...</td>\n      <td>2.693015</td>\n      <td>0.549727</td>\n    </tr>\n    <tr>\n      <th>...</th>\n      <td>...</td>\n      <td>...</td>\n      <td>...</td>\n      <td>...</td>\n      <td>...</td>\n      <td>...</td>\n      <td>...</td>\n    </tr>\n    <tr>\n      <th>2995</th>\n      <td>74</td>\n      <td>35</td>\n      <td>[[-0.8614196147988208, -0.8442979929675404], [...</td>\n      <td>[[0.1525726469243322, 0.021790876647558723], [...</td>\n      <td>[-0.051711371316041865, -2.9592684639786215, 2...</td>\n      <td>1.908491</td>\n      <td>0.404489</td>\n    </tr>\n    <tr>\n      <th>2996</th>\n      <td>74</td>\n      <td>36</td>\n      <td>[[-0.8614196147988208, -0.8442979929675404], [...</td>\n      <td>[[0.1525726469243322, 0.021790876647558723], [...</td>\n      <td>[-2.875905677428433, -1.9621849978905317, 1.61...</td>\n      <td>1.744808</td>\n      <td>1.273007</td>\n    </tr>\n    <tr>\n      <th>2997</th>\n      <td>74</td>\n      <td>37</td>\n      <td>[[-0.8614196147988208, -0.8442979929675404], [...</td>\n      <td>[[0.1525726469243322, 0.021790876647558723], [...</td>\n      <td>[-1.0297587870734066, -1.0235425218708587, -2....</td>\n      <td>2.032835</td>\n      <td>0.181955</td>\n    </tr>\n    <tr>\n      <th>2998</th>\n      <td>74</td>\n      <td>38</td>\n      <td>[[-0.8614196147988208, -0.8442979929675404], [...</td>\n      <td>[[0.1525726469243322, 0.021790876647558723], [...</td>\n      <td>[-1.9733653979535333, -2.169685117404886, -1.2...</td>\n      <td>0.837108</td>\n      <td>0.909268</td>\n    </tr>\n    <tr>\n      <th>2999</th>\n      <td>74</td>\n      <td>39</td>\n      <td>[[-0.8614196147988208, -0.8442979929675404], [...</td>\n      <td>[[0.1525726469243322, 0.021790876647558723], [...</td>\n      <td>[-1.1320302642285316, -2.128950117132045, -0.7...</td>\n      <td>1.832713</td>\n      <td>0.473459</td>\n    </tr>\n  </tbody>\n</table>\n<p>3000 rows × 7 columns</p>\n</div>"
     },
     "execution_count": 43,
     "metadata": {},
     "output_type": "execute_result"
    }
   ],
   "source": [
    "# compute empirical VOA table\n",
    "voa_tables = {\n",
    "    key: vd_table_to_empirical_voa_table(value) for key, value in vd_tables.items()\n",
    "}\n",
    "voa_tables['planner_2000']"
   ],
   "metadata": {
    "collapsed": false,
    "ExecuteTime": {
     "end_time": "2024-12-01T13:06:24.084288400Z",
     "start_time": "2024-12-01T13:06:15.526770300Z"
    }
   }
  },
  {
   "cell_type": "markdown",
   "source": [
    "# Sanity check: predict based on the known states"
   ],
   "metadata": {
    "collapsed": false
   }
  },
  {
   "cell_type": "code",
   "execution_count": 146,
   "outputs": [],
   "source": [
    "from modeling.belief.block_position_belief import BlocksPositionsBelief\n",
    "from modeling.policies.abstract_policy import AbstractPolicy\n",
    "from modeling.voa_predictions.observation_prediction_functions import sample_observation_fov_based\n",
    "from copy import deepcopy\n",
    "from lab_ur_stack.motion_planning.geometry_and_transforms import GeometryAndTransforms\n",
    "from modeling.voa_predictions.utils import mujoco_camera_intrinsics\n",
    "from lab_ur_stack.utils.workspace_utils import workspace_x_lims_default, workspace_y_lims_default\n",
    "from modeling.policies.pouct_planner_policy import POUCTPolicy\n",
    "from experiments_sim.block_stacking_simulator import helper_camera_translation_from_ee\n",
    "from multi_mujoco.motion_planning.simulation_motion_planner import SimulationMotionPlanner\n",
    "\n",
    "from modeling.voa_predictions.voa_prediction_simulation import rollout_episode, default_env_params\n",
    "from modeling.voa_predictions.voa_prediction_simulation import predict_voa_with_sampled_states"
   ],
   "metadata": {
    "collapsed": false,
    "ExecuteTime": {
     "end_time": "2024-12-02T07:36:35.274210500Z",
     "start_time": "2024-12-02T07:36:35.161700600Z"
    }
   }
  },
  {
   "cell_type": "code",
   "execution_count": 156,
   "outputs": [],
   "source": [
    "# let's implement a function that does this given a row from the empirical voa tables and predicts using the states from the vd_table\n",
    "def predict_voa_with_same_states_given_belief_idx(row, vd_table, belief, gt, cam_intrinsic_matrix, print_progress=False, times_repeat=1):\n",
    "    belief_idx = row.belief_idx\n",
    "    help_config_idx = row.help_config_idx_local\n",
    "    rows = vd_table[(vd_table.belief_idx == belief_idx) & (vd_table.help_config_idx_local == help_config_idx)]\n",
    "    states = [eval(row['state']) for _, row in rows.iterrows()]\n",
    "    states_likelihoods = [row['state_likelihood'] for _, row in rows.iterrows()]\n",
    "\n",
    "    policy = POUCTPolicy(initial_belief=belief,\n",
    "                     num_sims=200,\n",
    "                     max_planning_depth=4,\n",
    "                     show_progress=False,\n",
    "                     **default_env_params)\n",
    "\n",
    "    help_config = eval(row['help_config'])\n",
    "\n",
    "    pred_voa = []\n",
    "    pred_no_help = []\n",
    "    pred_with_help = []\n",
    "    for _ in range(times_repeat):\n",
    "        pred_voa_curr, pred_no_help_curr, pred_with_help_curr =  predict_voa_with_sampled_states(belief, help_config, policy, states,\n",
    "                                                                                  states_likelihoods, gt, cam_intrinsic_matrix,\n",
    "                                                                                  print_progress=print_progress)\n",
    "        pred_voa.append(pred_voa)\n",
    "\n",
    "    return np.mean(pred_voa), np.mean(pred_no_help), np.mean(pred_with_help)\n",
    "\n",
    "\n",
    "motion_planner = SimulationMotionPlanner()\n",
    "gt = GeometryAndTransforms(motion_planner, cam_in_ee=helper_camera_translation_from_ee)\n",
    "\n"
   ],
   "metadata": {
    "collapsed": false,
    "ExecuteTime": {
     "end_time": "2024-12-02T10:24:10.083920100Z",
     "start_time": "2024-12-02T10:24:09.829392800Z"
    }
   }
  },
  {
   "cell_type": "code",
   "execution_count": 154,
   "outputs": [
    {
     "name": "stdout",
     "output_type": "stream",
     "text": [
      " --- predicting voa for row 2748 ---\n",
      " --- predicting voa for row 2415 ---\n",
      " --- predicting voa for row 550 ---\n",
      " --- predicting voa for row 2362 ---\n",
      " --- predicting voa for row 1094 ---\n"
     ]
    }
   ],
   "source": [
    "row_ids = [2747, 2414, 549, 2361, 1093, 1032, 1653, 2093, 174, 1007, 2658, 1099, 2730, 868, 370, 1453, 2045, 926, 2140, 937]\n",
    "res = []\n",
    "for i in row_ids[:10]:\n",
    "    print(f\" --- predicting voa for row {i+1} ---\")\n",
    "    row_id = i\n",
    "    row = voa_tables['planner_200'].iloc[row_id]\n",
    "\n",
    "    belief_mus = eval(row['belief_mus'])\n",
    "    belief_sigmas = eval(row['belief_sigmas'])\n",
    "    belief = BlocksPositionsBelief(len(belief_mus),\n",
    "                                   workspace_x_lims_default,\n",
    "                                   workspace_y_lims_default,\n",
    "                                   init_mus=belief_mus,\n",
    "                                   init_sigmas=belief_sigmas)\n",
    "\n",
    "    pred_voa, pred_no_help, pred_with_help = predict_voa_with_same_states_given_belief_idx(row, vd_tables['planner_200'], belief,\n",
    "                                                                                           gt, mujoco_camera_intrinsics, times_repeat=1)\n",
    "    empirical_voa = row['empirical_voa']\n",
    "    res.append((pred_voa, empirical_voa, row_id))"
   ],
   "metadata": {
    "collapsed": false,
    "ExecuteTime": {
     "end_time": "2024-12-02T09:29:51.235928800Z",
     "start_time": "2024-12-02T08:31:12.234519700Z"
    }
   }
  },
  {
   "cell_type": "code",
   "execution_count": 155,
   "outputs": [
    {
     "name": "stdout",
     "output_type": "stream",
     "text": [
      "!!Without noise!!with_repeat=3\n",
      "[(1.2663768637484918, 2.8246147614525716, 2747), (3.382675647647964, 1.2463340771997964, 2414), (1.5581162257033014, 2.2314984235529396, 549), (1.31420781769374, 1.7062143590504804, 2361), (0.0, 1.300563881349558, 1093)]\n",
      "-----\n",
      "errors:  [1.5582378977040798, 2.1363415704481676, 0.6733821978496382, 0.3920065413567404, 1.300563881349558]\n",
      "mean error:  1.2121064177416367\n",
      "first 10 errors mean:  1.2121064177416367\n"
     ]
    }
   ],
   "source": [
    "print(\"!!Without noise!!with_repeat=3\")\n",
    "print(res)\n",
    "print(\"-----\")\n",
    "errors = [np.abs(pred - emp) for pred, emp, id in res]\n",
    "print(\"errors: \", errors)\n",
    "print(\"mean error: \", np.mean(errors))\n",
    "print(\"first 10 errors mean: \", np.mean(errors[:10]))"
   ],
   "metadata": {
    "collapsed": false,
    "ExecuteTime": {
     "end_time": "2024-12-02T09:29:51.541823900Z",
     "start_time": "2024-12-02T09:29:51.244446200Z"
    }
   }
  },
  {
   "cell_type": "code",
   "execution_count": 151,
   "outputs": [
    {
     "name": "stdout",
     "output_type": "stream",
     "text": [
      " --- predicting voa for row 2748 ---\n",
      " --- predicting voa for row 2415 ---\n",
      " --- predicting voa for row 550 ---\n",
      " --- predicting voa for row 2362 ---\n",
      " --- predicting voa for row 1094 ---\n",
      " --- predicting voa for row 1033 ---\n",
      " --- predicting voa for row 1654 ---\n",
      " --- predicting voa for row 2094 ---\n",
      " --- predicting voa for row 175 ---\n",
      " --- predicting voa for row 1008 ---\n"
     ]
    }
   ],
   "source": [
    "row_ids = [2747, 2414, 549, 2361, 1093, 1032, 1653, 2093, 174, 1007, 2658, 1099, 2730, 868, 370, 1453, 2045, 926, 2140, 937]\n",
    "res = []\n",
    "for i in row_ids[:10]:\n",
    "    print(f\" --- predicting voa for row {i+1} ---\")\n",
    "    row_id = i\n",
    "    row = voa_tables['planner_200'].iloc[row_id]\n",
    "\n",
    "    belief_mus = eval(row['belief_mus'])\n",
    "    belief_sigmas = eval(row['belief_sigmas'])\n",
    "    belief = BlocksPositionsBelief(len(belief_mus),\n",
    "                                   workspace_x_lims_default,\n",
    "                                   workspace_y_lims_default,\n",
    "                                   init_mus=belief_mus,\n",
    "                                   init_sigmas=belief_sigmas)\n",
    "\n",
    "    pred_voa = predict_voa_with_same_states_given_belief_idx(row, vd_tables['planner_200'], belief, gt, mujoco_camera_intrinsics)\n",
    "    empirical_voa = row['empirical_voa']\n",
    "    res.append((pred_voa, empirical_voa, row_id))"
   ],
   "metadata": {
    "collapsed": false,
    "ExecuteTime": {
     "end_time": "2024-12-02T08:25:36.378028700Z",
     "start_time": "2024-12-02T07:50:57.812684500Z"
    }
   }
  },
  {
   "cell_type": "code",
   "execution_count": 152,
   "outputs": [
    {
     "name": "stdout",
     "output_type": "stream",
     "text": [
      "!!Without noise!!\n",
      "[(1.356541954453268, 2.8246147614525716, 2747), (3.3127765810480962, 1.2463340771997964, 2414), (2.429952949294867, 2.2314984235529396, 549), (1.1502204284907651, 1.7062143590504804, 2361), (0.0, 1.300563881349558, 1093), (2.807995283561318, 1.9922195722464875, 1032), (0.0, 1.862428709862968, 1653), (0.0, 1.2384682529380253, 2093), (2.5933830511465388, 1.0983080287718086, 174), (3.4642889258977356, 3.4672931031734398, 1007)]\n",
      "-----\n",
      "errors:  [1.4680728069993036, 2.0664425038483, 0.19845452574192723, 0.5559939305597152, 1.300563881349558, 0.8157757113148305, 1.862428709862968, 1.2384682529380253, 1.4950750223747302, 0.003004177275704123]\n",
      "mean error:  1.1004279522265061\n",
      "first 10 errors mean:  1.1004279522265061\n"
     ]
    }
   ],
   "source": [
    "print(\"!!Without noise!!\")\n",
    "print(res)\n",
    "print(\"-----\")\n",
    "errors = [np.abs(pred - emp) for pred, emp, id in res]\n",
    "print(\"errors: \", errors)\n",
    "print(\"mean error: \", np.mean(errors))\n",
    "print(\"first 10 errors mean: \", np.mean(errors[:10]))"
   ],
   "metadata": {
    "collapsed": false,
    "ExecuteTime": {
     "end_time": "2024-12-02T08:25:36.599867200Z",
     "start_time": "2024-12-02T08:25:36.385240800Z"
    }
   }
  },
  {
   "cell_type": "code",
   "execution_count": 141,
   "outputs": [
    {
     "name": "stdout",
     "output_type": "stream",
     "text": [
      "[(1.6000000962632903, 2.8246147614525716, 2747), (3.179783515276881, 1.2463340771997964, 2414), (2.384926743987327, 2.2314984235529396, 549), (0.7641108412698716, 1.7062143590504804, 2361), (0.0, 1.300563881349558, 1093), (3.976087268599273, 1.9922195722464875, 1032), (0.0, 1.862428709862968, 1653), (0.0, 1.2384682529380253, 2093), (3.55871928696366, 1.0983080287718086, 174), (3.8958887253270715, 3.4672931031734398, 1007), (0.2469713248872329, 1.7873695244744354, 2658), (2.7724159550666356, 0.37528781272013007, 1099), (3.0574634811140484, 1.597746833178125, 2730), (0.6586048070973418, 1.1316422230795744, 868), (1.9524381063194385, 0.7145642949923477, 370), (0.0, 2.5326595079679066, 1453), (0.7346824297747676, 2.110614782395588, 2045), (2.1236751466232153, 2.324705278212168, 926), (0.0, 1.4614614062787414, 2140), (1.4896775517011709, 1.3842389379775923, 937)]\n",
      "-----\n",
      "errors:  [1.2246146651892813, 1.9334494380770848, 0.15342832043438737, 0.9421035177806087, 1.300563881349558, 1.9838676963527857, 1.862428709862968, 1.2384682529380253, 2.4604112581918516, 0.4285956221536318, 1.5403981995872025, 2.3971281423465056, 1.4597166479359234, 0.4730374159822326, 1.2378738113270908, 2.5326595079679066, 1.3759323526208203, 0.2010301315889529, 1.4614614062787414, 0.10543861372357854]\n",
      "mean error:  1.3156303795844568\n",
      "first 10 errors mean:  1.3527931362330181\n"
     ]
    }
   ],
   "source": [
    "# TODO remove noise at helping\n",
    "# TODO help and detection model - debug and look at detections positions\n",
    "# TODO: compare belief after help from experiments results (add to script)\n",
    "print(res)\n",
    "print(\"-----\")\n",
    "errors = [np.abs(pred - emp) for pred, emp, id in res]\n",
    "print(\"errors: \", errors)\n",
    "print(\"mean error: \", np.mean(errors))\n",
    "print(\"first 10 errors mean: \", np.mean(errors[:10]))"
   ],
   "metadata": {
    "collapsed": false,
    "ExecuteTime": {
     "end_time": "2024-12-02T06:49:56.893167700Z",
     "start_time": "2024-12-02T06:49:56.765347500Z"
    }
   }
  },
  {
   "cell_type": "code",
   "execution_count": 147,
   "outputs": [],
   "source": [
    "from lab_ur_stack.utils.workspace_utils import sample_block_positions_from_dists\n",
    "\n",
    "\n",
    "def predict_voa(belief: BlocksPositionsBelief, help_config, policy: AbstractPolicy, gt: GeometryAndTransforms, cam_intrinsic_matrix, n_states_to_sample, print_progress=False) -> float:\n",
    "    states = [sample_block_positions_from_dists(belief.block_beliefs) for _ in range(n_states_to_sample)]\n",
    "    states_likelihoods = [belief.state_pdf(state) for state in states]\n",
    "    return predict_voa_with_sampled_states(belief, help_config, policy, states, states_likelihoods, gt, cam_intrinsic_matrix, print_progress=print_progress)"
   ],
   "metadata": {
    "collapsed": false,
    "ExecuteTime": {
     "end_time": "2024-12-02T07:36:42.446158600Z",
     "start_time": "2024-12-02T07:36:42.333868400Z"
    }
   }
  },
  {
   "cell_type": "code",
   "execution_count": 148,
   "outputs": [],
   "source": [
    "# TODO: next : create script that runs predictions for all rows in voa_table with different number of sample states, also save computation times\n",
    "#       parallelize?\n",
    "#         run it with with 1, 3, 5, 10, 20 and save results.\n",
    "#        in this notebook plot the errors\n",
    "    # TODO: maybe predict the variance as well?\n"
   ],
   "metadata": {
    "collapsed": false,
    "ExecuteTime": {
     "end_time": "2024-12-02T07:36:43.262128600Z",
     "start_time": "2024-12-02T07:36:43.135855600Z"
    }
   }
  },
  {
   "cell_type": "code",
   "execution_count": 150,
   "outputs": [
    {
     "name": "stdout",
     "output_type": "stream",
     "text": [
      "[1.6166149079799652, 0.7193449293699814, 1.636121240677312, 2.5535108994226903, 1.6499931443249807, 1.6947336701850872, 0.7516893319552764, 0.7670454903854989, 1.632328117499128, 1.6158813596703112]\n",
      "0.29268273118704247\n",
      "[1.5264147015986964, -0.38004433060996234, 0.5366582740098238, 0.7372842119075358, -0.1973310448229313, 1.6271980522142258, 0.595759441726841, -0.4818216715939343, 1.6433945583412424, -0.412359232082963]\n",
      "0.6751584506856194\n",
      "[0.8156945978407748, 1.6410894601140171, 0.7176543443929404, -0.266447490088467, 0.7261213534511626, 0.5918363232631236, 1.6954794087796472, 0.7106509779114276, 1.7581820114282891, 1.5759064815938473]\n",
      "0.38439878301665475\n",
      "[0.7059086379522341, -0.2651236087549478, -0.2628856002120301, -0.3651511832140386, -0.36113389022648335, -0.20542687340639532, -0.4187949274200946, -0.336028568650363, 0.5488497734768316, -0.3894075083080679]\n",
      "0.15028059398279875\n",
      "[0.6427424137946218, 1.5370851256884634, -0.37183065083809197, 0.7155414638109505, 0.616808871855028, 1.7003715382015798, 0.7459582885567215, 0.6452456840779632, 0.4961900340858847, 0.6014232868910767]\n",
      "0.2906223066989996\n"
     ]
    }
   ],
   "source": [
    "# Run multiple rollouts from the same belief and same state to check how results vary:\n",
    "\n",
    "np.random.seed(0)\n",
    "row_ids = [2747, 2414, 549, 2361, 1093, 1032, 1653, 2093, 174, 1007, 2658, 1099, 2730, 868, 370, 1453, 2045, 926, 2140, 937]\n",
    "\n",
    "for row_id in row_ids[:5]:\n",
    "    row = voa_tables['planner_200'].iloc[row_id]\n",
    "\n",
    "    belief_mus = eval(row['belief_mus'])\n",
    "    belief_sigmas = eval(row['belief_sigmas'])\n",
    "    belief = BlocksPositionsBelief(len(belief_mus),\n",
    "                                   workspace_x_lims_default,\n",
    "                                   workspace_y_lims_default,\n",
    "                                   init_mus=belief_mus,\n",
    "                                   init_sigmas=belief_sigmas)\n",
    "\n",
    "    state = sample_block_positions_from_dists(belief.block_beliefs)\n",
    "\n",
    "    policy = POUCTPolicy(initial_belief=belief,\n",
    "                        num_sims=200,\n",
    "                        max_planning_depth=4,\n",
    "                        show_progress=False,\n",
    "                        **default_env_params)\n",
    "\n",
    "    curr_row_reward = []\n",
    "    for i in range(10):\n",
    "        sum_r = rollout_episode(belief, policy, state)\n",
    "        curr_row_reward.append(sum_r)\n",
    "    print(curr_row_reward)\n",
    "    # print variance:\n",
    "    print(np.var(curr_row_reward))\n"
   ],
   "metadata": {
    "collapsed": false,
    "ExecuteTime": {
     "end_time": "2024-12-02T07:50:57.808640500Z",
     "start_time": "2024-12-02T07:37:09.207695500Z"
    }
   }
  },
  {
   "cell_type": "code",
   "execution_count": null,
   "outputs": [],
   "source": [
    "# Run multiple rollouts from the same belief and same state to check how results vary:\n",
    "\n",
    "np.random.seed(0)\n",
    "row_ids = [2747, 2414, 549, 2361, 1093, 1032, 1653, 2093, 174, 1007, 2658, 1099, 2730, 868, 370, 1453, 2045, 926, 2140, 937]\n",
    "\n",
    "for row_id in row_ids[:5]:\n",
    "    row = voa_tables['planner_2000'].iloc[row_id]\n",
    "\n",
    "    belief_mus = eval(row['belief_mus'])\n",
    "    belief_sigmas = eval(row['belief_sigmas'])\n",
    "    belief = BlocksPositionsBelief(len(belief_mus),\n",
    "                                   workspace_x_lims_default,\n",
    "                                   workspace_y_lims_default,\n",
    "                                   init_mus=belief_mus,\n",
    "                                   init_sigmas=belief_sigmas)\n",
    "\n",
    "    state = sample_block_positions_from_dists(belief.block_beliefs)\n",
    "\n",
    "    policy = POUCTPolicy(initial_belief=belief,\n",
    "                        num_sims=2000,\n",
    "                        max_planning_depth=5,\n",
    "                        show_progress=False,\n",
    "                        **default_env_params)\n",
    "\n",
    "    curr_row_reward = []\n",
    "    for i in range(10):\n",
    "        sum_r = rollout_episode(belief, policy, state)\n",
    "        curr_row_reward.append(sum_r)\n",
    "    print(curr_row_reward)\n",
    "    # print variance:\n",
    "    print(np.var(curr_row_reward))\n"
   ],
   "metadata": {
    "collapsed": false
   }
  }
 ],
 "metadata": {
  "kernelspec": {
   "display_name": "Python 3",
   "language": "python",
   "name": "python3"
  },
  "language_info": {
   "codemirror_mode": {
    "name": "ipython",
    "version": 2
   },
   "file_extension": ".py",
   "mimetype": "text/x-python",
   "name": "python",
   "nbconvert_exporter": "python",
   "pygments_lexer": "ipython2",
   "version": "2.7.6"
  }
 },
 "nbformat": 4,
 "nbformat_minor": 0
}
