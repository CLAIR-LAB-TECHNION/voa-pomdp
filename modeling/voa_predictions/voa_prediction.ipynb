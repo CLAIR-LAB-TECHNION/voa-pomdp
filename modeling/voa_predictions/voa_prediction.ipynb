{
 "cells": [
  {
   "cell_type": "code",
   "execution_count": 24,
   "outputs": [
    {
     "name": "stdout",
     "output_type": "stream",
     "text": [
      "The autoreload extension is already loaded. To reload it, use:\n",
      "  %reload_ext autoreload\n"
     ]
    }
   ],
   "source": [
    "%load_ext autoreload\n",
    "%autoreload 2"
   ],
   "metadata": {
    "collapsed": false,
    "ExecuteTime": {
     "end_time": "2024-11-29T09:18:44.479227400Z",
     "start_time": "2024-11-29T09:18:44.405064200Z"
    }
   }
  },
  {
   "cell_type": "code",
   "execution_count": 25,
   "outputs": [],
   "source": [
    "import os\n",
    "import pandas as pd\n",
    "import numpy as np\n",
    "import matplotlib.pyplot as plt\n",
    "\n",
    "results_tables = {\n",
    "    'planner_2000': '../../experiments_sim/results/experiments_planner_2000_results.csv',\n",
    "    'planner_200': '../../experiments_sim/results/experiments_planner_200_results.csv',\n",
    "    'handmade': '../../experiments_sim/results/experiments_handmade_results.csv',\n",
    "}\n",
    "\n",
    "dataframes = {\n",
    "    key: pd.read_csv(value) for key, value in results_tables.items()\n",
    "}"
   ],
   "metadata": {
    "collapsed": false,
    "ExecuteTime": {
     "end_time": "2024-11-29T09:18:44.922952400Z",
     "start_time": "2024-11-29T09:18:44.645032400Z"
    }
   }
  },
  {
   "cell_type": "code",
   "execution_count": 27,
   "outputs": [],
   "source": [
    "from data_processing.process_experiments_results import experiments_results_to_empirical_vd_table, add_state_likelihood_column, vd_table_to_empirical_voa_table"
   ],
   "metadata": {
    "collapsed": false,
    "ExecuteTime": {
     "end_time": "2024-11-29T09:18:57.403572800Z",
     "start_time": "2024-11-29T09:18:57.326185600Z"
    }
   }
  },
  {
   "cell_type": "code",
   "execution_count": 28,
   "outputs": [
    {
     "data": {
      "text/plain": "      experiment_id  belief_idx  state_idx  help_config_idx_local  \\\n0                 2           0          0                      0   \n1                 3           0          0                      1   \n2                 4           0          0                      2   \n3                 5           0          0                      3   \n4                 6           0          0                      4   \n...             ...         ...        ...                    ...   \n9995          10246          24          9                     35   \n9996          10247          24          9                     36   \n9997          10248          24          9                     37   \n9998          10249          24          9                     38   \n9999          10250          24          9                     39   \n\n                                             belief_mus  \\\n0     [[-0.6707883940438972, -0.6738849536583333], [...   \n1     [[-0.6707883940438972, -0.6738849536583333], [...   \n2     [[-0.6707883940438972, -0.6738849536583333], [...   \n3     [[-0.6707883940438972, -0.6738849536583333], [...   \n4     [[-0.6707883940438972, -0.6738849536583333], [...   \n...                                                 ...   \n9995  [[-0.6896067601161389, -0.970929250018681], [-...   \n9996  [[-0.6896067601161389, -0.970929250018681], [-...   \n9997  [[-0.6896067601161389, -0.970929250018681], [-...   \n9998  [[-0.6896067601161389, -0.970929250018681], [-...   \n9999  [[-0.6896067601161389, -0.970929250018681], [-...   \n\n                                          belief_sigmas  \\\n0     [[0.03341828090770939, 0.10977154734804455], [...   \n1     [[0.03341828090770939, 0.10977154734804455], [...   \n2     [[0.03341828090770939, 0.10977154734804455], [...   \n3     [[0.03341828090770939, 0.10977154734804455], [...   \n4     [[0.03341828090770939, 0.10977154734804455], [...   \n...                                                 ...   \n9995  [[0.0675898216744101, 0.1314587026898491], [0....   \n9996  [[0.0675898216744101, 0.1314587026898491], [0....   \n9997  [[0.0675898216744101, 0.1314587026898491], [0....   \n9998  [[0.0675898216744101, 0.1314587026898491], [0....   \n9999  [[0.0675898216744101, 0.1314587026898491], [0....   \n\n                                                  state  \\\n0     [[-0.6717436420397124, -0.6061821316477612], [...   \n1     [[-0.6717436420397124, -0.6061821316477612], [...   \n2     [[-0.6717436420397124, -0.6061821316477612], [...   \n3     [[-0.6717436420397124, -0.6061821316477612], [...   \n4     [[-0.6717436420397124, -0.6061821316477612], [...   \n...                                                 ...   \n9995  [[-0.7583149469634072, -0.8819352061657707], [...   \n9996  [[-0.7583149469634072, -0.8819352061657707], [...   \n9997  [[-0.7583149469634072, -0.8819352061657707], [...   \n9998  [[-0.7583149469634072, -0.8819352061657707], [...   \n9999  [[-0.7583149469634072, -0.8819352061657707], [...   \n\n                                            help_config  \\\n0     [-1.9014330228342988, -1.6991118824551512, -0....   \n1     [-2.1805030081670105, -1.456472553959741, -0.6...   \n2     [-0.6830265903194725, -1.7805955759059928, -0....   \n3     [-2.313662072491533, -1.6991831441213614, -0.9...   \n4     [0.9228154497246033, -1.0492493359058759, 1.40...   \n...                                                 ...   \n9995  [-0.051711371316041865, -2.9592684639786215, 2...   \n9996  [-2.875905677428433, -1.9621849978905317, 1.61...   \n9997  [-1.0297587870734066, -1.0235425218708587, -2....   \n9998  [-1.9733653979535333, -2.169685117404886, -1.2...   \n9999  [-1.1320302642285316, -2.128950117132045, -0.7...   \n\n           conducted_datetime_stamp  accumulated_rewards  episode_lengths  \\\n0     2024-11-21_11-49-55_pid848193             1.750647               20   \n1     2024-11-21_11-49-55_pid848189             1.832796               20   \n2     2024-11-21_11-49-55_pid848201             2.799484               20   \n3     2024-11-21_11-49-55_pid848198             0.743902               20   \n4     2024-11-21_11-49-55_pid848192             4.065761               17   \n...                             ...                  ...              ...   \n9995   2024-11-22_17-00-52_pid24358             3.739725               20   \n9996   2024-11-22_17-28-26_pid28278             1.807735               20   \n9997   2024-11-22_17-28-26_pid28281             3.729511               20   \n9998   2024-11-22_17-28-26_pid28271             1.756130               20   \n9999   2024-11-22_17-28-26_pid28279             2.742784               20   \n\n      n_successful_pickups  n_pickup_attempts  n_detection_from_help  \\\n0                        2                  6                      4   \n1                        2                  3                      2   \n2                        3                  3                      3   \n3                        1                  6                      4   \n4                        4                  5                      4   \n...                    ...                ...                    ...   \n9995                     4                  5                      4   \n9996                     2                  4                      4   \n9997                     4                  4                      3   \n9998                     2                  4                      2   \n9999                     3                  4                      3   \n\n      value_diff      state_likelihood  \n0       0.866670  [157462.73688208545]  \n1       0.948819  [157462.73688208545]  \n2       1.915507  [157462.73688208545]  \n3      -0.140075  [157462.73688208545]  \n4       3.181784  [157462.73688208545]  \n...          ...                   ...  \n9995    3.940573  [192055.76887447116]  \n9996    2.008583  [192055.76887447116]  \n9997    3.930359  [192055.76887447116]  \n9998    1.956977  [192055.76887447116]  \n9999    2.943632  [192055.76887447116]  \n\n[10000 rows x 16 columns]",
      "text/html": "<div>\n<style scoped>\n    .dataframe tbody tr th:only-of-type {\n        vertical-align: middle;\n    }\n\n    .dataframe tbody tr th {\n        vertical-align: top;\n    }\n\n    .dataframe thead th {\n        text-align: right;\n    }\n</style>\n<table border=\"1\" class=\"dataframe\">\n  <thead>\n    <tr style=\"text-align: right;\">\n      <th></th>\n      <th>experiment_id</th>\n      <th>belief_idx</th>\n      <th>state_idx</th>\n      <th>help_config_idx_local</th>\n      <th>belief_mus</th>\n      <th>belief_sigmas</th>\n      <th>state</th>\n      <th>help_config</th>\n      <th>conducted_datetime_stamp</th>\n      <th>accumulated_rewards</th>\n      <th>episode_lengths</th>\n      <th>n_successful_pickups</th>\n      <th>n_pickup_attempts</th>\n      <th>n_detection_from_help</th>\n      <th>value_diff</th>\n      <th>state_likelihood</th>\n    </tr>\n  </thead>\n  <tbody>\n    <tr>\n      <th>0</th>\n      <td>2</td>\n      <td>0</td>\n      <td>0</td>\n      <td>0</td>\n      <td>[[-0.6707883940438972, -0.6738849536583333], [...</td>\n      <td>[[0.03341828090770939, 0.10977154734804455], [...</td>\n      <td>[[-0.6717436420397124, -0.6061821316477612], [...</td>\n      <td>[-1.9014330228342988, -1.6991118824551512, -0....</td>\n      <td>2024-11-21_11-49-55_pid848193</td>\n      <td>1.750647</td>\n      <td>20</td>\n      <td>2</td>\n      <td>6</td>\n      <td>4</td>\n      <td>0.866670</td>\n      <td>[157462.73688208545]</td>\n    </tr>\n    <tr>\n      <th>1</th>\n      <td>3</td>\n      <td>0</td>\n      <td>0</td>\n      <td>1</td>\n      <td>[[-0.6707883940438972, -0.6738849536583333], [...</td>\n      <td>[[0.03341828090770939, 0.10977154734804455], [...</td>\n      <td>[[-0.6717436420397124, -0.6061821316477612], [...</td>\n      <td>[-2.1805030081670105, -1.456472553959741, -0.6...</td>\n      <td>2024-11-21_11-49-55_pid848189</td>\n      <td>1.832796</td>\n      <td>20</td>\n      <td>2</td>\n      <td>3</td>\n      <td>2</td>\n      <td>0.948819</td>\n      <td>[157462.73688208545]</td>\n    </tr>\n    <tr>\n      <th>2</th>\n      <td>4</td>\n      <td>0</td>\n      <td>0</td>\n      <td>2</td>\n      <td>[[-0.6707883940438972, -0.6738849536583333], [...</td>\n      <td>[[0.03341828090770939, 0.10977154734804455], [...</td>\n      <td>[[-0.6717436420397124, -0.6061821316477612], [...</td>\n      <td>[-0.6830265903194725, -1.7805955759059928, -0....</td>\n      <td>2024-11-21_11-49-55_pid848201</td>\n      <td>2.799484</td>\n      <td>20</td>\n      <td>3</td>\n      <td>3</td>\n      <td>3</td>\n      <td>1.915507</td>\n      <td>[157462.73688208545]</td>\n    </tr>\n    <tr>\n      <th>3</th>\n      <td>5</td>\n      <td>0</td>\n      <td>0</td>\n      <td>3</td>\n      <td>[[-0.6707883940438972, -0.6738849536583333], [...</td>\n      <td>[[0.03341828090770939, 0.10977154734804455], [...</td>\n      <td>[[-0.6717436420397124, -0.6061821316477612], [...</td>\n      <td>[-2.313662072491533, -1.6991831441213614, -0.9...</td>\n      <td>2024-11-21_11-49-55_pid848198</td>\n      <td>0.743902</td>\n      <td>20</td>\n      <td>1</td>\n      <td>6</td>\n      <td>4</td>\n      <td>-0.140075</td>\n      <td>[157462.73688208545]</td>\n    </tr>\n    <tr>\n      <th>4</th>\n      <td>6</td>\n      <td>0</td>\n      <td>0</td>\n      <td>4</td>\n      <td>[[-0.6707883940438972, -0.6738849536583333], [...</td>\n      <td>[[0.03341828090770939, 0.10977154734804455], [...</td>\n      <td>[[-0.6717436420397124, -0.6061821316477612], [...</td>\n      <td>[0.9228154497246033, -1.0492493359058759, 1.40...</td>\n      <td>2024-11-21_11-49-55_pid848192</td>\n      <td>4.065761</td>\n      <td>17</td>\n      <td>4</td>\n      <td>5</td>\n      <td>4</td>\n      <td>3.181784</td>\n      <td>[157462.73688208545]</td>\n    </tr>\n    <tr>\n      <th>...</th>\n      <td>...</td>\n      <td>...</td>\n      <td>...</td>\n      <td>...</td>\n      <td>...</td>\n      <td>...</td>\n      <td>...</td>\n      <td>...</td>\n      <td>...</td>\n      <td>...</td>\n      <td>...</td>\n      <td>...</td>\n      <td>...</td>\n      <td>...</td>\n      <td>...</td>\n      <td>...</td>\n    </tr>\n    <tr>\n      <th>9995</th>\n      <td>10246</td>\n      <td>24</td>\n      <td>9</td>\n      <td>35</td>\n      <td>[[-0.6896067601161389, -0.970929250018681], [-...</td>\n      <td>[[0.0675898216744101, 0.1314587026898491], [0....</td>\n      <td>[[-0.7583149469634072, -0.8819352061657707], [...</td>\n      <td>[-0.051711371316041865, -2.9592684639786215, 2...</td>\n      <td>2024-11-22_17-00-52_pid24358</td>\n      <td>3.739725</td>\n      <td>20</td>\n      <td>4</td>\n      <td>5</td>\n      <td>4</td>\n      <td>3.940573</td>\n      <td>[192055.76887447116]</td>\n    </tr>\n    <tr>\n      <th>9996</th>\n      <td>10247</td>\n      <td>24</td>\n      <td>9</td>\n      <td>36</td>\n      <td>[[-0.6896067601161389, -0.970929250018681], [-...</td>\n      <td>[[0.0675898216744101, 0.1314587026898491], [0....</td>\n      <td>[[-0.7583149469634072, -0.8819352061657707], [...</td>\n      <td>[-2.875905677428433, -1.9621849978905317, 1.61...</td>\n      <td>2024-11-22_17-28-26_pid28278</td>\n      <td>1.807735</td>\n      <td>20</td>\n      <td>2</td>\n      <td>4</td>\n      <td>4</td>\n      <td>2.008583</td>\n      <td>[192055.76887447116]</td>\n    </tr>\n    <tr>\n      <th>9997</th>\n      <td>10248</td>\n      <td>24</td>\n      <td>9</td>\n      <td>37</td>\n      <td>[[-0.6896067601161389, -0.970929250018681], [-...</td>\n      <td>[[0.0675898216744101, 0.1314587026898491], [0....</td>\n      <td>[[-0.7583149469634072, -0.8819352061657707], [...</td>\n      <td>[-1.0297587870734066, -1.0235425218708587, -2....</td>\n      <td>2024-11-22_17-28-26_pid28281</td>\n      <td>3.729511</td>\n      <td>20</td>\n      <td>4</td>\n      <td>4</td>\n      <td>3</td>\n      <td>3.930359</td>\n      <td>[192055.76887447116]</td>\n    </tr>\n    <tr>\n      <th>9998</th>\n      <td>10249</td>\n      <td>24</td>\n      <td>9</td>\n      <td>38</td>\n      <td>[[-0.6896067601161389, -0.970929250018681], [-...</td>\n      <td>[[0.0675898216744101, 0.1314587026898491], [0....</td>\n      <td>[[-0.7583149469634072, -0.8819352061657707], [...</td>\n      <td>[-1.9733653979535333, -2.169685117404886, -1.2...</td>\n      <td>2024-11-22_17-28-26_pid28271</td>\n      <td>1.756130</td>\n      <td>20</td>\n      <td>2</td>\n      <td>4</td>\n      <td>2</td>\n      <td>1.956977</td>\n      <td>[192055.76887447116]</td>\n    </tr>\n    <tr>\n      <th>9999</th>\n      <td>10250</td>\n      <td>24</td>\n      <td>9</td>\n      <td>39</td>\n      <td>[[-0.6896067601161389, -0.970929250018681], [-...</td>\n      <td>[[0.0675898216744101, 0.1314587026898491], [0....</td>\n      <td>[[-0.7583149469634072, -0.8819352061657707], [...</td>\n      <td>[-1.1320302642285316, -2.128950117132045, -0.7...</td>\n      <td>2024-11-22_17-28-26_pid28279</td>\n      <td>2.742784</td>\n      <td>20</td>\n      <td>3</td>\n      <td>4</td>\n      <td>3</td>\n      <td>2.943632</td>\n      <td>[192055.76887447116]</td>\n    </tr>\n  </tbody>\n</table>\n<p>10000 rows × 16 columns</p>\n</div>"
     },
     "execution_count": 28,
     "metadata": {},
     "output_type": "execute_result"
    }
   ],
   "source": [
    "vd_tables = {\n",
    "    key: experiments_results_to_empirical_vd_table(value) for key, value in dataframes.items()\n",
    "}\n",
    "# add state probability column\n",
    "vd_tables = {\n",
    "    key: add_state_likelihood_column(value) for key, value in vd_tables.items()\n",
    "}\n",
    "\n",
    "vd_tables['planner_2000']"
   ],
   "metadata": {
    "collapsed": false,
    "ExecuteTime": {
     "end_time": "2024-11-29T09:19:10.122041500Z",
     "start_time": "2024-11-29T09:18:59.702433300Z"
    }
   }
  },
  {
   "cell_type": "code",
   "execution_count": 32,
   "outputs": [
    {
     "data": {
      "text/plain": "     belief_idx  help_config_idx_local  \\\n0             0                      0   \n1             0                      1   \n2             0                      2   \n3             0                      3   \n4             0                      4   \n..          ...                    ...   \n995          24                     35   \n996          24                     36   \n997          24                     37   \n998          24                     38   \n999          24                     39   \n\n                                            belief_mus  \\\n0    [[-0.6707883940438972, -0.6738849536583333], [...   \n1    [[-0.6707883940438972, -0.6738849536583333], [...   \n2    [[-0.6707883940438972, -0.6738849536583333], [...   \n3    [[-0.6707883940438972, -0.6738849536583333], [...   \n4    [[-0.6707883940438972, -0.6738849536583333], [...   \n..                                                 ...   \n995  [[-0.6896067601161389, -0.970929250018681], [-...   \n996  [[-0.6896067601161389, -0.970929250018681], [-...   \n997  [[-0.6896067601161389, -0.970929250018681], [-...   \n998  [[-0.6896067601161389, -0.970929250018681], [-...   \n999  [[-0.6896067601161389, -0.970929250018681], [-...   \n\n                                         belief_sigmas  \\\n0    [[0.03341828090770939, 0.10977154734804455], [...   \n1    [[0.03341828090770939, 0.10977154734804455], [...   \n2    [[0.03341828090770939, 0.10977154734804455], [...   \n3    [[0.03341828090770939, 0.10977154734804455], [...   \n4    [[0.03341828090770939, 0.10977154734804455], [...   \n..                                                 ...   \n995  [[0.0675898216744101, 0.1314587026898491], [0....   \n996  [[0.0675898216744101, 0.1314587026898491], [0....   \n997  [[0.0675898216744101, 0.1314587026898491], [0....   \n998  [[0.0675898216744101, 0.1314587026898491], [0....   \n999  [[0.0675898216744101, 0.1314587026898491], [0....   \n\n                                           help_config  empirical_voa  \\\n0    [-1.9014330228342988, -1.6991118824551512, -0....       1.113772   \n1    [-2.1805030081670105, -1.456472553959741, -0.6...       1.674214   \n2    [-0.6830265903194725, -1.7805955759059928, -0....       1.763390   \n3    [-2.313662072491533, -1.6991831441213614, -0.9...       1.254307   \n4    [0.9228154497246033, -1.0492493359058759, 1.40...       2.693015   \n..                                                 ...            ...   \n995  [-0.051711371316041865, -2.9592684639786215, 2...       2.753111   \n996  [-2.875905677428433, -1.9621849978905317, 1.61...       1.341063   \n997  [-1.0297587870734066, -1.0235425218708587, -2....       3.320784   \n998  [-1.9733653979535333, -2.169685117404886, -1.2...       2.154303   \n999  [-1.1320302642285316, -2.128950117132045, -0.7...       2.473833   \n\n     empirical_voa_population_variance  \n0                             2.175994  \n1                             0.154106  \n2                             0.878616  \n3                             0.540228  \n4                             0.549727  \n..                                 ...  \n995                           1.089968  \n996                           0.580116  \n997                           0.670556  \n998                           0.531781  \n999                           0.795813  \n\n[1000 rows x 7 columns]",
      "text/html": "<div>\n<style scoped>\n    .dataframe tbody tr th:only-of-type {\n        vertical-align: middle;\n    }\n\n    .dataframe tbody tr th {\n        vertical-align: top;\n    }\n\n    .dataframe thead th {\n        text-align: right;\n    }\n</style>\n<table border=\"1\" class=\"dataframe\">\n  <thead>\n    <tr style=\"text-align: right;\">\n      <th></th>\n      <th>belief_idx</th>\n      <th>help_config_idx_local</th>\n      <th>belief_mus</th>\n      <th>belief_sigmas</th>\n      <th>help_config</th>\n      <th>empirical_voa</th>\n      <th>empirical_voa_population_variance</th>\n    </tr>\n  </thead>\n  <tbody>\n    <tr>\n      <th>0</th>\n      <td>0</td>\n      <td>0</td>\n      <td>[[-0.6707883940438972, -0.6738849536583333], [...</td>\n      <td>[[0.03341828090770939, 0.10977154734804455], [...</td>\n      <td>[-1.9014330228342988, -1.6991118824551512, -0....</td>\n      <td>1.113772</td>\n      <td>2.175994</td>\n    </tr>\n    <tr>\n      <th>1</th>\n      <td>0</td>\n      <td>1</td>\n      <td>[[-0.6707883940438972, -0.6738849536583333], [...</td>\n      <td>[[0.03341828090770939, 0.10977154734804455], [...</td>\n      <td>[-2.1805030081670105, -1.456472553959741, -0.6...</td>\n      <td>1.674214</td>\n      <td>0.154106</td>\n    </tr>\n    <tr>\n      <th>2</th>\n      <td>0</td>\n      <td>2</td>\n      <td>[[-0.6707883940438972, -0.6738849536583333], [...</td>\n      <td>[[0.03341828090770939, 0.10977154734804455], [...</td>\n      <td>[-0.6830265903194725, -1.7805955759059928, -0....</td>\n      <td>1.763390</td>\n      <td>0.878616</td>\n    </tr>\n    <tr>\n      <th>3</th>\n      <td>0</td>\n      <td>3</td>\n      <td>[[-0.6707883940438972, -0.6738849536583333], [...</td>\n      <td>[[0.03341828090770939, 0.10977154734804455], [...</td>\n      <td>[-2.313662072491533, -1.6991831441213614, -0.9...</td>\n      <td>1.254307</td>\n      <td>0.540228</td>\n    </tr>\n    <tr>\n      <th>4</th>\n      <td>0</td>\n      <td>4</td>\n      <td>[[-0.6707883940438972, -0.6738849536583333], [...</td>\n      <td>[[0.03341828090770939, 0.10977154734804455], [...</td>\n      <td>[0.9228154497246033, -1.0492493359058759, 1.40...</td>\n      <td>2.693015</td>\n      <td>0.549727</td>\n    </tr>\n    <tr>\n      <th>...</th>\n      <td>...</td>\n      <td>...</td>\n      <td>...</td>\n      <td>...</td>\n      <td>...</td>\n      <td>...</td>\n      <td>...</td>\n    </tr>\n    <tr>\n      <th>995</th>\n      <td>24</td>\n      <td>35</td>\n      <td>[[-0.6896067601161389, -0.970929250018681], [-...</td>\n      <td>[[0.0675898216744101, 0.1314587026898491], [0....</td>\n      <td>[-0.051711371316041865, -2.9592684639786215, 2...</td>\n      <td>2.753111</td>\n      <td>1.089968</td>\n    </tr>\n    <tr>\n      <th>996</th>\n      <td>24</td>\n      <td>36</td>\n      <td>[[-0.6896067601161389, -0.970929250018681], [-...</td>\n      <td>[[0.0675898216744101, 0.1314587026898491], [0....</td>\n      <td>[-2.875905677428433, -1.9621849978905317, 1.61...</td>\n      <td>1.341063</td>\n      <td>0.580116</td>\n    </tr>\n    <tr>\n      <th>997</th>\n      <td>24</td>\n      <td>37</td>\n      <td>[[-0.6896067601161389, -0.970929250018681], [-...</td>\n      <td>[[0.0675898216744101, 0.1314587026898491], [0....</td>\n      <td>[-1.0297587870734066, -1.0235425218708587, -2....</td>\n      <td>3.320784</td>\n      <td>0.670556</td>\n    </tr>\n    <tr>\n      <th>998</th>\n      <td>24</td>\n      <td>38</td>\n      <td>[[-0.6896067601161389, -0.970929250018681], [-...</td>\n      <td>[[0.0675898216744101, 0.1314587026898491], [0....</td>\n      <td>[-1.9733653979535333, -2.169685117404886, -1.2...</td>\n      <td>2.154303</td>\n      <td>0.531781</td>\n    </tr>\n    <tr>\n      <th>999</th>\n      <td>24</td>\n      <td>39</td>\n      <td>[[-0.6896067601161389, -0.970929250018681], [-...</td>\n      <td>[[0.0675898216744101, 0.1314587026898491], [0....</td>\n      <td>[-1.1320302642285316, -2.128950117132045, -0.7...</td>\n      <td>2.473833</td>\n      <td>0.795813</td>\n    </tr>\n  </tbody>\n</table>\n<p>1000 rows × 7 columns</p>\n</div>"
     },
     "execution_count": 32,
     "metadata": {},
     "output_type": "execute_result"
    }
   ],
   "source": [
    "# compute empirical VOA table\n",
    "voa_tables = {\n",
    "    key: vd_table_to_empirical_voa_table(value) for key, value in vd_tables.items()\n",
    "}\n",
    "voa_tables['planner_2000']"
   ],
   "metadata": {
    "collapsed": false,
    "ExecuteTime": {
     "end_time": "2024-11-29T12:53:52.039579900Z",
     "start_time": "2024-11-29T12:53:48.868996100Z"
    }
   }
  },
  {
   "cell_type": "markdown",
   "source": [
    "# Sanity check: predict based on the known states"
   ],
   "metadata": {
    "collapsed": false
   }
  },
  {
   "cell_type": "code",
   "execution_count": 33,
   "outputs": [],
   "source": [
    "from modeling.belief.block_position_belief import BlocksPositionsBelief\n",
    "from modeling.policies.abstract_policy import AbstractPolicy\n",
    "from modeling.voa_predictions.observation_prediction_functions import sample_observation_fov_based\n",
    "from copy import deepcopy\n",
    "from lab_ur_stack.motion_planning.geometry_and_transforms import GeometryAndTransforms"
   ],
   "metadata": {
    "collapsed": false,
    "ExecuteTime": {
     "end_time": "2024-11-29T12:58:26.521181Z",
     "start_time": "2024-11-29T12:58:26.453427800Z"
    }
   }
  },
  {
   "cell_type": "code",
   "execution_count": null,
   "outputs": [],
   "source": [
    "def rollout_episode(belief: BlocksPositionsBelief, policy: AbstractPolicy, state) -> float:\n",
    "    \"\"\"\n",
    "    Rollout an episode with the given belief, initial state and policy and return prediction for accumulated reward\n",
    "    @param belief:\n",
    "    @param help_config:\n",
    "    @param policy:\n",
    "    @return: accumulated reward\n",
    "    \"\"\"\n",
    "    pass"
   ],
   "metadata": {
    "collapsed": false
   }
  },
  {
   "cell_type": "code",
   "execution_count": 34,
   "outputs": [
    {
     "ename": "SyntaxError",
     "evalue": "invalid syntax (304079719.py, line 21)",
     "output_type": "error",
     "traceback": [
      "\u001B[1;36m  Cell \u001B[1;32mIn[34], line 21\u001B[1;36m\u001B[0m\n\u001B[1;33m    belief_with_help.\u001B[0m\n\u001B[1;37m                     ^\u001B[0m\n\u001B[1;31mSyntaxError\u001B[0m\u001B[1;31m:\u001B[0m invalid syntax\n"
     ]
    }
   ],
   "source": [
    "def predict_voa_with_sampled_states(belief: BlocksPositionsBelief, help_config, policy: AbstractPolicy,\n",
    "                                    states, states_likelihoods, gt: GeometryAndTransforms, cam_intrinsic_matrix) -> float:\n",
    "    \"\"\"\n",
    "    Predict the VOA based on the given belief, help_config, policy and use the already sampled states\n",
    "    @param belief:\n",
    "    @param help_config:\n",
    "    @param policy:\n",
    "    @param states: list of block positions lists\n",
    "    @param states_likelihoods: list of likelihoods for the states (what is the likelihood of each state in the belief)\n",
    "    @param gt: GeometryAndTransforms object for the scene\n",
    "    @param cam_intrinsic_matrix: camera intrinsic matrix\n",
    "    @return:\n",
    "    \"\"\"\n",
    "\n",
    "    states_value_diffs = []\n",
    "    for s in states:\n",
    "        reward_no_help = rollout_episode(belief, policy, s)\n",
    "\n",
    "        belief_with_help = deepcopy(belief)\n",
    "        observed_detection_mus, observed_detection_sigmas = sample_observation_fov_based(s, help_config, gt, cam_intrinsic_matrix)\n",
    "        belief_with_help.update_from_image_detections_position_distribution(observed_detection_mus, observed_detection_sigmas)\n",
    "\n",
    "        reward_with_help = rollout_episode(belief_with_help, policy, s)\n",
    "\n",
    "        states_value_diffs.append(reward_with_help - reward_no_help)\n",
    "\n",
    "    weights = np.asarray(states_likelihoods)\n",
    "    weights /= np.sum(weights)\n",
    "\n",
    "    return np.dot(states_value_diffs, weights)[0]\n"
   ],
   "metadata": {
    "collapsed": false
   }
  },
  {
   "cell_type": "code",
   "execution_count": null,
   "outputs": [],
   "source": [
    "\n",
    "\n",
    "def predict_voa(belief: BlocksPositionsBelief, help_config, policy: AbstractPolicy, gt: GeometryAndTransforms, cam_intrinsic_matrix) -> float\n",
    "    # TODO: maybe predict the variance as well?\n",
    "    # TODO: sample state, plan and execute with the policy from each state, twice, and average the results\n",
    "    pass\n"
   ],
   "metadata": {
    "collapsed": false
   }
  }
 ],
 "metadata": {
  "kernelspec": {
   "display_name": "Python 3",
   "language": "python",
   "name": "python3"
  },
  "language_info": {
   "codemirror_mode": {
    "name": "ipython",
    "version": 2
   },
   "file_extension": ".py",
   "mimetype": "text/x-python",
   "name": "python",
   "nbconvert_exporter": "python",
   "pygments_lexer": "ipython2",
   "version": "2.7.6"
  }
 },
 "nbformat": 4,
 "nbformat_minor": 0
}
