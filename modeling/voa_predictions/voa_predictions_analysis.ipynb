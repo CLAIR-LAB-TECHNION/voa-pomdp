{
 "cells": [
  {
   "cell_type": "code",
   "id": "initial_id",
   "metadata": {
    "collapsed": true,
    "ExecuteTime": {
     "end_time": "2024-12-06T09:18:53.185979Z",
     "start_time": "2024-12-06T09:18:53.178107Z"
    }
   },
   "source": [
    "%load_ext autoreload\n",
    "%autoreload 2"
   ],
   "outputs": [
    {
     "name": "stdout",
     "output_type": "stream",
     "text": [
      "The autoreload extension is already loaded. To reload it, use:\n",
      "  %reload_ext autoreload\n"
     ]
    }
   ],
   "execution_count": 71
  },
  {
   "metadata": {
    "ExecuteTime": {
     "end_time": "2024-12-06T09:18:53.234741Z",
     "start_time": "2024-12-06T09:18:53.228387Z"
    }
   },
   "cell_type": "code",
   "source": [
    "results = {\n",
    "    '1_states': \"./results/planner_200_1states.csv\",\n",
    "    '3_states': \"./results/planner_200_3states.csv\",\n",
    "    '5_states': \"./results/planner_200_5states.csv\",\n",
    "    '10_states': \"./results/planner_200_10states.csv\",\n",
    "    '25_states': \"./results/planner_200_25states.csv\",\n",
    "    '50_states': \"./results/planner_200_50states.csv\",\n",
    "}"
   ],
   "id": "f077aca5b71ed598",
   "outputs": [],
   "execution_count": 72
  },
  {
   "metadata": {
    "ExecuteTime": {
     "end_time": "2024-12-06T09:18:53.283347Z",
     "start_time": "2024-12-06T09:18:53.277373Z"
    }
   },
   "cell_type": "code",
   "source": [
    "import pandas as pd\n",
    "import numpy as np\n",
    "import matplotlib.pyplot as plt\n"
   ],
   "id": "c0ee8af99cc0999c",
   "outputs": [],
   "execution_count": 73
  },
  {
   "metadata": {
    "ExecuteTime": {
     "end_time": "2024-12-06T09:18:53.353859Z",
     "start_time": "2024-12-06T09:18:53.331187Z"
    }
   },
   "cell_type": "code",
   "source": [
    "results_df = {\n",
    "    key: pd.read_csv(value)\n",
    "    for key, value in results.items()\n",
    "}\n",
    "results_df['1_states'].head(3)"
   ],
   "id": "3a19651860b31be9",
   "outputs": [
    {
     "data": {
      "text/plain": [
       "   row_id  empirical_voa  predicted_voa  empirical_baseline  \\\n",
       "0       0       1.864269      -0.028016            0.083536   \n",
       "1       1       2.177866       0.965418            0.083536   \n",
       "2       2       2.903816       0.981686            0.083536   \n",
       "\n",
       "   predicted_baseline  predicted_with_help  \n",
       "0            0.678175             0.650159  \n",
       "1            0.701345             1.666763  \n",
       "2            1.630193             2.611880  "
      ],
      "text/html": [
       "<div>\n",
       "<style scoped>\n",
       "    .dataframe tbody tr th:only-of-type {\n",
       "        vertical-align: middle;\n",
       "    }\n",
       "\n",
       "    .dataframe tbody tr th {\n",
       "        vertical-align: top;\n",
       "    }\n",
       "\n",
       "    .dataframe thead th {\n",
       "        text-align: right;\n",
       "    }\n",
       "</style>\n",
       "<table border=\"1\" class=\"dataframe\">\n",
       "  <thead>\n",
       "    <tr style=\"text-align: right;\">\n",
       "      <th></th>\n",
       "      <th>row_id</th>\n",
       "      <th>empirical_voa</th>\n",
       "      <th>predicted_voa</th>\n",
       "      <th>empirical_baseline</th>\n",
       "      <th>predicted_baseline</th>\n",
       "      <th>predicted_with_help</th>\n",
       "    </tr>\n",
       "  </thead>\n",
       "  <tbody>\n",
       "    <tr>\n",
       "      <th>0</th>\n",
       "      <td>0</td>\n",
       "      <td>1.864269</td>\n",
       "      <td>-0.028016</td>\n",
       "      <td>0.083536</td>\n",
       "      <td>0.678175</td>\n",
       "      <td>0.650159</td>\n",
       "    </tr>\n",
       "    <tr>\n",
       "      <th>1</th>\n",
       "      <td>1</td>\n",
       "      <td>2.177866</td>\n",
       "      <td>0.965418</td>\n",
       "      <td>0.083536</td>\n",
       "      <td>0.701345</td>\n",
       "      <td>1.666763</td>\n",
       "    </tr>\n",
       "    <tr>\n",
       "      <th>2</th>\n",
       "      <td>2</td>\n",
       "      <td>2.903816</td>\n",
       "      <td>0.981686</td>\n",
       "      <td>0.083536</td>\n",
       "      <td>1.630193</td>\n",
       "      <td>2.611880</td>\n",
       "    </tr>\n",
       "  </tbody>\n",
       "</table>\n",
       "</div>"
      ]
     },
     "execution_count": 74,
     "metadata": {},
     "output_type": "execute_result"
    }
   ],
   "execution_count": 74
  },
  {
   "metadata": {
    "ExecuteTime": {
     "end_time": "2024-12-06T09:18:53.407746Z",
     "start_time": "2024-12-06T09:18:53.400900Z"
    }
   },
   "cell_type": "code",
   "source": [
    "def compute_and_print_metrics(df, name):\n",
    "    voa = df['empirical_voa']\n",
    "    pred = df['predicted_voa']\n",
    "\n",
    "    errors = pred - voa\n",
    "    mae = np.mean(np.abs(errors))\n",
    "    mse = np.mean(errors ** 2)\n",
    "    overestimation_by03 = np.sum(errors > 0.3) / len(errors)\n",
    "    underestimation_by03 = np.sum(errors < -0.3) / len(errors)\n",
    "\n",
    "    print(\"Metrics for\", name)\n",
    "    print(f\"MAE: {mae}\")\n",
    "    print(f\"MSE: {mse}\")\n",
    "    print(f\"Signed error: {np.mean(errors)}\")\n",
    "    print(f\"Overestimation by 0.3: {overestimation_by03}\")\n",
    "    print(f\"Underestimation by 0.3: {underestimation_by03}\")\n",
    "    print()\n",
    "    return mae, mse, overestimation_by03, underestimation_by03\n"
   ],
   "id": "f4d5f6e1d1522c27",
   "outputs": [],
   "execution_count": 75
  },
  {
   "metadata": {
    "ExecuteTime": {
     "end_time": "2024-12-06T09:18:53.459930Z",
     "start_time": "2024-12-06T09:18:53.450242Z"
    }
   },
   "cell_type": "code",
   "source": [
    "n_states = []\n",
    "maes = []\n",
    "mses = []\n",
    "overestimations = []\n",
    "underestimations = []\n",
    "for key, value in results_df.items():\n",
    "    mae, mse, overestimation, underestimation = compute_and_print_metrics(value, key)\n",
    "    n_states.append(key.split('_')[0])\n",
    "    maes.append(mae)\n",
    "    mses.append(mse)\n",
    "    overestimations.append(overestimation)\n",
    "    underestimations.append(underestimation)"
   ],
   "id": "5d68f5e84839ffb9",
   "outputs": [
    {
     "name": "stdout",
     "output_type": "stream",
     "text": [
      "Metrics for 1_states\n",
      "MAE: 1.1609632903140037\n",
      "MSE: 2.157779900640661\n",
      "Signed error: -0.10681206915104526\n",
      "Overestimation by 0.3: 0.372\n",
      "Underestimation by 0.3: 0.454\n",
      "\n",
      "Metrics for 3_states\n",
      "MAE: 0.9209775735157021\n",
      "MSE: 1.3415778531405647\n",
      "Signed error: -0.05777012440143149\n",
      "Overestimation by 0.3: 0.368\n",
      "Underestimation by 0.3: 0.42866666666666664\n",
      "\n",
      "Metrics for 5_states\n",
      "MAE: 0.8359926518701154\n",
      "MSE: 1.1248782540009887\n",
      "Signed error: -0.020438621385801204\n",
      "Overestimation by 0.3: 0.368\n",
      "Underestimation by 0.3: 0.4003333333333333\n",
      "\n",
      "Metrics for 10_states\n",
      "MAE: 0.75219205663618\n",
      "MSE: 0.9114452316831969\n",
      "Signed error: -0.03238567084345875\n",
      "Overestimation by 0.3: 0.36233333333333334\n",
      "Underestimation by 0.3: 0.38566666666666666\n",
      "\n",
      "Metrics for 25_states\n",
      "MAE: 0.6837934920976337\n",
      "MSE: 0.7477813206012914\n",
      "Signed error: -0.045427121147707604\n",
      "Overestimation by 0.3: 0.3333333333333333\n",
      "Underestimation by 0.3: 0.38\n",
      "\n",
      "Metrics for 50_states\n",
      "MAE: 0.6652904097666945\n",
      "MSE: 0.7089523889664683\n",
      "Signed error: -0.03779979116338075\n",
      "Overestimation by 0.3: 0.3396666666666667\n",
      "Underestimation by 0.3: 0.377\n",
      "\n"
     ]
    }
   ],
   "execution_count": 76
  },
  {
   "metadata": {
    "ExecuteTime": {
     "end_time": "2024-12-06T09:18:53.654882Z",
     "start_time": "2024-12-06T09:18:53.579234Z"
    }
   },
   "cell_type": "code",
   "source": [
    "# plot mae and mse given number of states\n",
    "# add p\n",
    "plt.figure()\n",
    "plt.plot(n_states, maes, label='MAE')\n",
    "plt.plot(n_states, mses, label='MSE')\n",
    "plt.xlabel('Number of rollouts')\n",
    "plt.ylabel('Error')\n",
    "\n",
    "plt.legend()\n",
    "\n"
   ],
   "id": "be5871ed3d2e135",
   "outputs": [
    {
     "data": {
      "text/plain": [
       "<matplotlib.legend.Legend at 0x7fc056bd6bf0>"
      ]
     },
     "execution_count": 77,
     "metadata": {},
     "output_type": "execute_result"
    },
    {
     "data": {
      "text/plain": [
       "<Figure size 640x480 with 1 Axes>"
      ],
      "image/png": "[encoded data removed]"
     },
     "metadata": {},
     "output_type": "display_data"
    }
   ],
   "execution_count": 77
  },
  {
   "metadata": {
    "ExecuteTime": {
     "end_time": "2024-12-06T09:18:53.680337Z",
     "start_time": "2024-12-06T09:18:53.678704Z"
    }
   },
   "cell_type": "code",
   "source": "",
   "id": "e085b48328648f34",
   "outputs": [],
   "execution_count": null
  }
 ],
 "metadata": {
  "kernelspec": {
   "display_name": "Python 3",
   "language": "python",
   "name": "python3"
  },
  "language_info": {
   "codemirror_mode": {
    "name": "ipython",
    "version": 2
   },
   "file_extension": ".py",
   "mimetype": "text/x-python",
   "name": "python",
   "nbconvert_exporter": "python",
   "pygments_lexer": "ipython2",
   "version": "2.7.6"
  }
 },
 "nbformat": 4,
 "nbformat_minor": 5
}
