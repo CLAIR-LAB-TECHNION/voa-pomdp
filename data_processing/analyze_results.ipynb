{
 "cells": [
  {
   "cell_type": "code",
   "execution_count": 55,
   "metadata": {
    "collapsed": true,
    "ExecuteTime": {
     "end_time": "2024-11-26T10:26:27.180038400Z",
     "start_time": "2024-11-26T10:26:27.139815900Z"
    }
   },
   "outputs": [],
   "source": [
    "import os\n",
    "import pandas as pd\n",
    "import numpy as np"
   ]
  },
  {
   "cell_type": "code",
   "execution_count": 56,
   "outputs": [],
   "source": [
    "results_tables = {\n",
    "    'planner_2000': '../experiments_sim/results/experiments_planner_2000_results.csv',\n",
    "    'planner_200': '../experiments_sim/results/experiments_planner_200_results.csv',\n",
    "    'handmade': '../experiments_sim/results/experiments_handmade_results.csv',\n",
    "}"
   ],
   "metadata": {
    "collapsed": false,
    "ExecuteTime": {
     "end_time": "2024-11-26T10:26:27.306055100Z",
     "start_time": "2024-11-26T10:26:27.155387600Z"
    }
   }
  },
  {
   "cell_type": "code",
   "execution_count": 57,
   "outputs": [
    {
     "data": {
      "text/plain": "   experiment_id  belief_idx  state_idx  help_config_idx_local  \\\n0              1           0          0                     -1   \n1              2           0          0                      0   \n2              3           0          0                      1   \n3              4           0          0                      2   \n4              5           0          0                      3   \n5              6           0          0                      4   \n6              7           0          0                      5   \n7              8           0          0                      6   \n8              9           0          0                      7   \n9             10           0          0                      8   \n\n                                          belief_mus  \\\n0  [[-0.6707883940438972, -0.6738849536583333], [...   \n1  [[-0.6707883940438972, -0.6738849536583333], [...   \n2  [[-0.6707883940438972, -0.6738849536583333], [...   \n3  [[-0.6707883940438972, -0.6738849536583333], [...   \n4  [[-0.6707883940438972, -0.6738849536583333], [...   \n5  [[-0.6707883940438972, -0.6738849536583333], [...   \n6  [[-0.6707883940438972, -0.6738849536583333], [...   \n7  [[-0.6707883940438972, -0.6738849536583333], [...   \n8  [[-0.6707883940438972, -0.6738849536583333], [...   \n9  [[-0.6707883940438972, -0.6738849536583333], [...   \n\n                                       belief_sigmas  \\\n0  [[0.03341828090770939, 0.10977154734804455], [...   \n1  [[0.03341828090770939, 0.10977154734804455], [...   \n2  [[0.03341828090770939, 0.10977154734804455], [...   \n3  [[0.03341828090770939, 0.10977154734804455], [...   \n4  [[0.03341828090770939, 0.10977154734804455], [...   \n5  [[0.03341828090770939, 0.10977154734804455], [...   \n6  [[0.03341828090770939, 0.10977154734804455], [...   \n7  [[0.03341828090770939, 0.10977154734804455], [...   \n8  [[0.03341828090770939, 0.10977154734804455], [...   \n9  [[0.03341828090770939, 0.10977154734804455], [...   \n\n                                               state  \\\n0  [[-0.6717436420397124, -0.6061821316477612], [...   \n1  [[-0.6717436420397124, -0.6061821316477612], [...   \n2  [[-0.6717436420397124, -0.6061821316477612], [...   \n3  [[-0.6717436420397124, -0.6061821316477612], [...   \n4  [[-0.6717436420397124, -0.6061821316477612], [...   \n5  [[-0.6717436420397124, -0.6061821316477612], [...   \n6  [[-0.6717436420397124, -0.6061821316477612], [...   \n7  [[-0.6717436420397124, -0.6061821316477612], [...   \n8  [[-0.6717436420397124, -0.6061821316477612], [...   \n9  [[-0.6717436420397124, -0.6061821316477612], [...   \n\n                                         help_config  \\\n0                                                NaN   \n1  [-1.9014330228342988, -1.6991118824551512, -0....   \n2  [-2.1805030081670105, -1.456472553959741, -0.6...   \n3  [-0.6830265903194725, -1.7805955759059928, -0....   \n4  [-2.313662072491533, -1.6991831441213614, -0.9...   \n5  [0.9228154497246033, -1.0492493359058759, 1.40...   \n6  [1.2654757011851672, -0.3164468112587193, 0.34...   \n7  [-1.104839879259845, -2.8236289196167896, -0.3...   \n8  [-1.454699944611191, -1.6698776753158502, -1.7...   \n9  [-1.4818613085642476, -2.237436739801526, -0.9...   \n\n        conducted_datetime_stamp  accumulated_rewards  episode_lengths  \\\n0  2024-11-21_11-49-55_pid848191             0.883977               20   \n1  2024-11-21_11-49-55_pid848193             1.750647               20   \n2  2024-11-21_11-49-55_pid848189             1.832796               20   \n3  2024-11-21_11-49-55_pid848201             2.799484               20   \n4  2024-11-21_11-49-55_pid848198             0.743902               20   \n5  2024-11-21_11-49-55_pid848192             4.065761               17   \n6  2024-11-21_11-49-55_pid848190             1.813858               20   \n7  2024-11-21_11-49-55_pid848202             2.722116               20   \n8  2024-11-21_11-49-55_pid848187             3.832298               19   \n9  2024-11-21_11-49-56_pid848188             0.891330               20   \n\n   n_successful_pickups  n_pickup_attempts  n_detection_from_help  \n0                     1                  1                      0  \n1                     2                  6                      4  \n2                     2                  3                      2  \n3                     3                  3                      3  \n4                     1                  6                      4  \n5                     4                  5                      4  \n6                     2                  3                      2  \n7                     3                  5                      3  \n8                     4                  6                      4  \n9                     1                  1                      0  ",
      "text/html": "<div>\n<style scoped>\n    .dataframe tbody tr th:only-of-type {\n        vertical-align: middle;\n    }\n\n    .dataframe tbody tr th {\n        vertical-align: top;\n    }\n\n    .dataframe thead th {\n        text-align: right;\n    }\n</style>\n<table border=\"1\" class=\"dataframe\">\n  <thead>\n    <tr style=\"text-align: right;\">\n      <th></th>\n      <th>experiment_id</th>\n      <th>belief_idx</th>\n      <th>state_idx</th>\n      <th>help_config_idx_local</th>\n      <th>belief_mus</th>\n      <th>belief_sigmas</th>\n      <th>state</th>\n      <th>help_config</th>\n      <th>conducted_datetime_stamp</th>\n      <th>accumulated_rewards</th>\n      <th>episode_lengths</th>\n      <th>n_successful_pickups</th>\n      <th>n_pickup_attempts</th>\n      <th>n_detection_from_help</th>\n    </tr>\n  </thead>\n  <tbody>\n    <tr>\n      <th>0</th>\n      <td>1</td>\n      <td>0</td>\n      <td>0</td>\n      <td>-1</td>\n      <td>[[-0.6707883940438972, -0.6738849536583333], [...</td>\n      <td>[[0.03341828090770939, 0.10977154734804455], [...</td>\n      <td>[[-0.6717436420397124, -0.6061821316477612], [...</td>\n      <td>NaN</td>\n      <td>2024-11-21_11-49-55_pid848191</td>\n      <td>0.883977</td>\n      <td>20</td>\n      <td>1</td>\n      <td>1</td>\n      <td>0</td>\n    </tr>\n    <tr>\n      <th>1</th>\n      <td>2</td>\n      <td>0</td>\n      <td>0</td>\n      <td>0</td>\n      <td>[[-0.6707883940438972, -0.6738849536583333], [...</td>\n      <td>[[0.03341828090770939, 0.10977154734804455], [...</td>\n      <td>[[-0.6717436420397124, -0.6061821316477612], [...</td>\n      <td>[-1.9014330228342988, -1.6991118824551512, -0....</td>\n      <td>2024-11-21_11-49-55_pid848193</td>\n      <td>1.750647</td>\n      <td>20</td>\n      <td>2</td>\n      <td>6</td>\n      <td>4</td>\n    </tr>\n    <tr>\n      <th>2</th>\n      <td>3</td>\n      <td>0</td>\n      <td>0</td>\n      <td>1</td>\n      <td>[[-0.6707883940438972, -0.6738849536583333], [...</td>\n      <td>[[0.03341828090770939, 0.10977154734804455], [...</td>\n      <td>[[-0.6717436420397124, -0.6061821316477612], [...</td>\n      <td>[-2.1805030081670105, -1.456472553959741, -0.6...</td>\n      <td>2024-11-21_11-49-55_pid848189</td>\n      <td>1.832796</td>\n      <td>20</td>\n      <td>2</td>\n      <td>3</td>\n      <td>2</td>\n    </tr>\n    <tr>\n      <th>3</th>\n      <td>4</td>\n      <td>0</td>\n      <td>0</td>\n      <td>2</td>\n      <td>[[-0.6707883940438972, -0.6738849536583333], [...</td>\n      <td>[[0.03341828090770939, 0.10977154734804455], [...</td>\n      <td>[[-0.6717436420397124, -0.6061821316477612], [...</td>\n      <td>[-0.6830265903194725, -1.7805955759059928, -0....</td>\n      <td>2024-11-21_11-49-55_pid848201</td>\n      <td>2.799484</td>\n      <td>20</td>\n      <td>3</td>\n      <td>3</td>\n      <td>3</td>\n    </tr>\n    <tr>\n      <th>4</th>\n      <td>5</td>\n      <td>0</td>\n      <td>0</td>\n      <td>3</td>\n      <td>[[-0.6707883940438972, -0.6738849536583333], [...</td>\n      <td>[[0.03341828090770939, 0.10977154734804455], [...</td>\n      <td>[[-0.6717436420397124, -0.6061821316477612], [...</td>\n      <td>[-2.313662072491533, -1.6991831441213614, -0.9...</td>\n      <td>2024-11-21_11-49-55_pid848198</td>\n      <td>0.743902</td>\n      <td>20</td>\n      <td>1</td>\n      <td>6</td>\n      <td>4</td>\n    </tr>\n    <tr>\n      <th>5</th>\n      <td>6</td>\n      <td>0</td>\n      <td>0</td>\n      <td>4</td>\n      <td>[[-0.6707883940438972, -0.6738849536583333], [...</td>\n      <td>[[0.03341828090770939, 0.10977154734804455], [...</td>\n      <td>[[-0.6717436420397124, -0.6061821316477612], [...</td>\n      <td>[0.9228154497246033, -1.0492493359058759, 1.40...</td>\n      <td>2024-11-21_11-49-55_pid848192</td>\n      <td>4.065761</td>\n      <td>17</td>\n      <td>4</td>\n      <td>5</td>\n      <td>4</td>\n    </tr>\n    <tr>\n      <th>6</th>\n      <td>7</td>\n      <td>0</td>\n      <td>0</td>\n      <td>5</td>\n      <td>[[-0.6707883940438972, -0.6738849536583333], [...</td>\n      <td>[[0.03341828090770939, 0.10977154734804455], [...</td>\n      <td>[[-0.6717436420397124, -0.6061821316477612], [...</td>\n      <td>[1.2654757011851672, -0.3164468112587193, 0.34...</td>\n      <td>2024-11-21_11-49-55_pid848190</td>\n      <td>1.813858</td>\n      <td>20</td>\n      <td>2</td>\n      <td>3</td>\n      <td>2</td>\n    </tr>\n    <tr>\n      <th>7</th>\n      <td>8</td>\n      <td>0</td>\n      <td>0</td>\n      <td>6</td>\n      <td>[[-0.6707883940438972, -0.6738849536583333], [...</td>\n      <td>[[0.03341828090770939, 0.10977154734804455], [...</td>\n      <td>[[-0.6717436420397124, -0.6061821316477612], [...</td>\n      <td>[-1.104839879259845, -2.8236289196167896, -0.3...</td>\n      <td>2024-11-21_11-49-55_pid848202</td>\n      <td>2.722116</td>\n      <td>20</td>\n      <td>3</td>\n      <td>5</td>\n      <td>3</td>\n    </tr>\n    <tr>\n      <th>8</th>\n      <td>9</td>\n      <td>0</td>\n      <td>0</td>\n      <td>7</td>\n      <td>[[-0.6707883940438972, -0.6738849536583333], [...</td>\n      <td>[[0.03341828090770939, 0.10977154734804455], [...</td>\n      <td>[[-0.6717436420397124, -0.6061821316477612], [...</td>\n      <td>[-1.454699944611191, -1.6698776753158502, -1.7...</td>\n      <td>2024-11-21_11-49-55_pid848187</td>\n      <td>3.832298</td>\n      <td>19</td>\n      <td>4</td>\n      <td>6</td>\n      <td>4</td>\n    </tr>\n    <tr>\n      <th>9</th>\n      <td>10</td>\n      <td>0</td>\n      <td>0</td>\n      <td>8</td>\n      <td>[[-0.6707883940438972, -0.6738849536583333], [...</td>\n      <td>[[0.03341828090770939, 0.10977154734804455], [...</td>\n      <td>[[-0.6717436420397124, -0.6061821316477612], [...</td>\n      <td>[-1.4818613085642476, -2.237436739801526, -0.9...</td>\n      <td>2024-11-21_11-49-56_pid848188</td>\n      <td>0.891330</td>\n      <td>20</td>\n      <td>1</td>\n      <td>1</td>\n      <td>0</td>\n    </tr>\n  </tbody>\n</table>\n</div>"
     },
     "execution_count": 57,
     "metadata": {},
     "output_type": "execute_result"
    }
   ],
   "source": [
    "dataframes = {\n",
    "    key: pd.read_csv(value) for key, value in results_tables.items()\n",
    "}\n",
    "dataframes['planner_2000'].head(10)"
   ],
   "metadata": {
    "collapsed": false,
    "ExecuteTime": {
     "end_time": "2024-11-26T10:26:27.476947500Z",
     "start_time": "2024-11-26T10:26:27.173004900Z"
    }
   }
  },
  {
   "cell_type": "markdown",
   "source": [
    "first for general understanding, print the mean accumulated reward with help, without help, and total for each planner"
   ],
   "metadata": {
    "collapsed": false
   }
  },
  {
   "cell_type": "code",
   "execution_count": 68,
   "outputs": [
    {
     "name": "stdout",
     "output_type": "stream",
     "text": [
      "--------\n",
      "planner_2000\n",
      "--------\n",
      "mean accumulated reward 2.2912040922727233\n",
      "mean accumulated reward without help 0.555080423159274\n",
      "mean accumulated reward with help 2.3346071840005593\n",
      "num of beliefs:  25\n",
      "num of states:  10\n",
      "num of help configs:  40\n",
      "mean num of pickup attempts without help: 2.068, succesful pickups: 0.708, successful pickup ratio: 0.34235976789168276\n",
      "--------\n",
      "planner_200\n",
      "--------\n",
      "mean accumulated reward 2.28033530720073\n",
      "mean accumulated reward without help 0.7192336933747016\n",
      "mean accumulated reward with help 2.319362847546381\n",
      "num of beliefs:  25\n",
      "num of states:  10\n",
      "num of help configs:  40\n",
      "mean num of pickup attempts without help: 5.136, succesful pickups: 0.996, successful pickup ratio: 0.1939252336448598\n",
      "--------\n",
      "handmade\n",
      "--------\n",
      "mean accumulated reward 2.138060746272079\n",
      "mean accumulated reward without help 1.1537006565088008\n",
      "mean accumulated reward with help 2.1626697485161612\n",
      "num of beliefs:  25\n",
      "num of states:  10\n",
      "num of help configs:  40\n",
      "mean num of pickup attempts without help: 2.556, succesful pickups: 1.316, successful pickup ratio: 0.514866979655712\n"
     ]
    }
   ],
   "source": [
    "# in each df there is just accumulated rewards column\n",
    "for key, df in dataframes.items():\n",
    "    print(\"--------\")\n",
    "    print(key)\n",
    "    print(\"--------\")\n",
    "    print(f\"mean accumulated reward {df['accumulated_rewards'].mean()}\")\n",
    "    print(f\"mean accumulated reward without help {df[df['help_config_idx_local'] == -1]['accumulated_rewards'].mean()}\")\n",
    "    print(f\"mean accumulated reward with help {df[df['help_config_idx_local'] != -1]['accumulated_rewards'].mean()}\")\n",
    "    print(\"num of beliefs: \", len(df['belief_idx'].unique()))\n",
    "    print(\"num of states: \", len(df['state_idx'].unique()))\n",
    "    print(\"num of help configs: \", len(df['help_config_idx_local'].unique()) - 1 )\n",
    "\n",
    "    mean_pickup_attempts_no_help = df[df['help_config_idx_local'] == -1]['n_pickup_attempts'].mean()\n",
    "    mean_successful_pickup_no_help = df[df['help_config_idx_local'] == -1]['n_successful_pickups'].mean()\n",
    "    ratio_no_help = mean_successful_pickup_no_help / mean_pickup_attempts_no_help\n",
    "    print (f\"mean num of pickup attempts without help: {mean_pickup_attempts_no_help},\"\n",
    "           f\" succesful pickups: {mean_successful_pickup_no_help},\"\n",
    "           f\" successful pickup ratio: {ratio_no_help}\")"
   ],
   "metadata": {
    "collapsed": false,
    "ExecuteTime": {
     "end_time": "2024-11-26T10:45:30.830072400Z",
     "start_time": "2024-11-26T10:45:30.754745400Z"
    }
   }
  },
  {
   "cell_type": "markdown",
   "source": [
    "Create new dataframe for value difference between with help and without help for each help config"
   ],
   "metadata": {
    "collapsed": false
   }
  },
  {
   "cell_type": "code",
   "execution_count": 59,
   "outputs": [],
   "source": [
    "value_diff_dfs = {}\n",
    "for key, df in dataframes.items():\n",
    "    base_df = df[df['help_config_idx_local'] == -1]\n",
    "    results = []\n",
    "    for _, baseline_row in base_df.iterrows():\n",
    "        belief_idx = baseline_row['belief_idx']\n",
    "        state_idx = baseline_row['state_idx']\n",
    "        baseline_reward = baseline_row['accumulated_rewards']\n",
    "        filtered_rows = df[(df['state_idx'] == state_idx) & (df['belief_idx'] == belief_idx) & (df['help_config_idx_local'] != -1)]\n",
    "        for _, row in filtered_rows.iterrows():\n",
    "            value_diff = row['accumulated_rewards'] - baseline_reward\n",
    "            results.append({\n",
    "                'belief_idx': belief_idx,\n",
    "                'state_idx': state_idx,\n",
    "                'help_config_idx_local': row['help_config_idx_local'],\n",
    "                'value_diff': value_diff\n",
    "            })\n",
    "    result_df = pd.DataFrame(results, columns=['belief_idx', 'state_idx', 'help_config_idx_local', 'value_diff'])\n",
    "    value_diff_dfs[key] = result_df\n"
   ],
   "metadata": {
    "collapsed": false,
    "ExecuteTime": {
     "end_time": "2024-11-26T10:26:31.154122500Z",
     "start_time": "2024-11-26T10:26:27.508998600Z"
    }
   }
  },
  {
   "cell_type": "code",
   "execution_count": 60,
   "outputs": [
    {
     "data": {
      "text/plain": "   belief_idx  state_idx  help_config_idx_local  value_diff\n0           0          0                      0    0.866670\n1           0          0                      1    0.948819\n2           0          0                      2    1.915507\n3           0          0                      3   -0.140075\n4           0          0                      4    3.181784",
      "text/html": "<div>\n<style scoped>\n    .dataframe tbody tr th:only-of-type {\n        vertical-align: middle;\n    }\n\n    .dataframe tbody tr th {\n        vertical-align: top;\n    }\n\n    .dataframe thead th {\n        text-align: right;\n    }\n</style>\n<table border=\"1\" class=\"dataframe\">\n  <thead>\n    <tr style=\"text-align: right;\">\n      <th></th>\n      <th>belief_idx</th>\n      <th>state_idx</th>\n      <th>help_config_idx_local</th>\n      <th>value_diff</th>\n    </tr>\n  </thead>\n  <tbody>\n    <tr>\n      <th>0</th>\n      <td>0</td>\n      <td>0</td>\n      <td>0</td>\n      <td>0.866670</td>\n    </tr>\n    <tr>\n      <th>1</th>\n      <td>0</td>\n      <td>0</td>\n      <td>1</td>\n      <td>0.948819</td>\n    </tr>\n    <tr>\n      <th>2</th>\n      <td>0</td>\n      <td>0</td>\n      <td>2</td>\n      <td>1.915507</td>\n    </tr>\n    <tr>\n      <th>3</th>\n      <td>0</td>\n      <td>0</td>\n      <td>3</td>\n      <td>-0.140075</td>\n    </tr>\n    <tr>\n      <th>4</th>\n      <td>0</td>\n      <td>0</td>\n      <td>4</td>\n      <td>3.181784</td>\n    </tr>\n  </tbody>\n</table>\n</div>"
     },
     "execution_count": 60,
     "metadata": {},
     "output_type": "execute_result"
    }
   ],
   "source": [
    "value_diff_dfs['planner_2000'].head(5)"
   ],
   "metadata": {
    "collapsed": false,
    "ExecuteTime": {
     "end_time": "2024-11-26T10:26:31.168208400Z",
     "start_time": "2024-11-26T10:26:31.157122Z"
    }
   }
  },
  {
   "cell_type": "markdown",
   "source": [
    "Try using help as empirical mean estimator to VOA, then try belief as empirical mean estimator to VOA, then try both"
   ],
   "metadata": {
    "collapsed": false
   }
  },
  {
   "cell_type": "code",
   "execution_count": 64,
   "outputs": [],
   "source": [
    "def empirical_mean_estimator_belief(df, belief_idx):\n",
    "    belief_df = df[df['belief_idx'] == belief_idx]\n",
    "    return belief_df['value_diff'].mean()\n",
    "\n",
    "def empirical_mean_estimator_help(df, help_config_idx):\n",
    "    help_df = df[df['help_config_idx_local'] == help_config_idx]\n",
    "    return help_df['value_diff'].mean()\n",
    "\n",
    "def empirical_mean_estimator_both(df, belief_idx, help_config_idx):\n",
    "    both_df = df[(df['belief_idx'] == belief_idx) & (df['help_config_idx_local'] == help_config_idx)]\n",
    "    return both_df['value_diff'].mean()"
   ],
   "metadata": {
    "collapsed": false,
    "ExecuteTime": {
     "end_time": "2024-11-26T10:27:11.055323300Z",
     "start_time": "2024-11-26T10:27:11.034784500Z"
    }
   }
  },
  {
   "cell_type": "code",
   "execution_count": 65,
   "outputs": [],
   "source": [
    "def test_estimators_results(value_diff_df):\n",
    "    # use estimator on all samples and compute mean error\n",
    "    belief_errors = []\n",
    "    help_errors = []\n",
    "    both_errors = []\n",
    "    for belief_idx in value_diff_df['belief_idx'].unique():\n",
    "        belief_error = np.abs(value_diff_df[value_diff_df['belief_idx'] == belief_idx]['value_diff'] - empirical_mean_estimator_belief(value_diff_df, belief_idx)).mean()\n",
    "        belief_errors.append(belief_error)\n",
    "\n",
    "    for help_config_idx in value_diff_df['help_config_idx_local'].unique():\n",
    "        help_error = np.abs(value_diff_df[value_diff_df['help_config_idx_local'] == help_config_idx]['value_diff'] - empirical_mean_estimator_help(value_diff_df, help_config_idx)).mean()\n",
    "        help_errors.append(help_error)\n",
    "\n",
    "    for belief_idx in value_diff_df['belief_idx'].unique():\n",
    "        for help_config_idx in value_diff_df['help_config_idx_local'].unique():\n",
    "            both_error = np.abs(value_diff_df[(value_diff_df['belief_idx'] == belief_idx) & (value_diff_df['help_config_idx_local'] == help_config_idx)]['value_diff'] - empirical_mean_estimator_both(value_diff_df, belief_idx, help_config_idx)).mean()\n",
    "            both_errors.append(both_error)\n",
    "    return np.mean(belief_errors), np.mean(help_errors), np.mean(both_errors)"
   ],
   "metadata": {
    "collapsed": false,
    "ExecuteTime": {
     "end_time": "2024-11-26T10:27:11.257842400Z",
     "start_time": "2024-11-26T10:27:11.195159400Z"
    }
   }
  },
  {
   "cell_type": "code",
   "execution_count": 66,
   "outputs": [
    {
     "name": "stdout",
     "output_type": "stream",
     "text": [
      "planner_2000 belief error: 1.0033110199660051\n",
      "planner_2000 help error: 0.8681344114154361\n",
      "planner_2000 both error: 0.7834231824069192\n",
      "planner_200 belief error: 1.113054501661623\n",
      "planner_200 help error: 0.9874706020677539\n",
      "planner_200 both error: 0.9047904868998085\n",
      "handmade belief error: 0.7996411068448167\n",
      "handmade help error: 0.7794922501419522\n",
      "handmade both error: 0.7376282006533192\n"
     ]
    }
   ],
   "source": [
    "for key, value_diff_df in value_diff_dfs.items():\n",
    "    belief_error, help_error, both_error = test_estimators_results(value_diff_df)\n",
    "    print(f\"{key} belief error: {belief_error}\")\n",
    "    print(f\"{key} help error: {help_error}\")\n",
    "    print(f\"{key} both error: {both_error}\")"
   ],
   "metadata": {
    "collapsed": false,
    "ExecuteTime": {
     "end_time": "2024-11-26T10:27:16.074003200Z",
     "start_time": "2024-11-26T10:27:11.488512800Z"
    }
   }
  },
  {
   "cell_type": "markdown",
   "source": [
    "Sample Size Considerations, sample sizes are:\n",
    "Help action estimates: 250 samples (25 beliefs × 10 states)\n",
    "Belief estimates: 400 samples (40 help actions × 10 states)\n",
    "Both combined: 10 samples\n",
    "Given these sample sizes, it's particularly noteworthy that the \"both\" estimator performs best despite having the smallest sample size (only 10 samples). This strongly suggests that both belief and help configuration contain important information for prediction, as the improved accuracy outweighs the disadvantage of having fewer samples."
   ],
   "metadata": {
    "collapsed": false
   }
  },
  {
   "cell_type": "markdown",
   "source": [],
   "metadata": {
    "collapsed": false
   }
  },
  {
   "cell_type": "code",
   "execution_count": null,
   "outputs": [],
   "source": [],
   "metadata": {
    "collapsed": false
   }
  }
 ],
 "metadata": {
  "kernelspec": {
   "display_name": "Python 3",
   "language": "python",
   "name": "python3"
  },
  "language_info": {
   "codemirror_mode": {
    "name": "ipython",
    "version": 2
   },
   "file_extension": ".py",
   "mimetype": "text/x-python",
   "name": "python",
   "nbconvert_exporter": "python",
   "pygments_lexer": "ipython2",
   "version": "2.7.6"
  }
 },
 "nbformat": 4,
 "nbformat_minor": 0
}
