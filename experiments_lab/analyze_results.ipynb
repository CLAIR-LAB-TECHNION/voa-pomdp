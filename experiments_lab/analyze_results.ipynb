{
 "cells": [
  {
   "cell_type": "code",
   "id": "initial_id",
   "metadata": {
    "collapsed": true,
    "ExecuteTime": {
     "end_time": "2024-09-17T09:26:03.428047Z",
     "start_time": "2024-09-17T09:26:03.422113Z"
    }
   },
   "source": [
    "import os\n",
    "import pandas as pd\n",
    "import pickle\n",
    "from experiments_lab.experiment_results_data import ExperimentResults\n",
    "\n",
    "def result_table(csv_file_path):\n",
    "    experiments_folder = \"/home/clair01/PycharmProjects/voa-pomdp/experiments_lab/experiments/4blocks\"\n",
    "    \n",
    "    # Load the CSV data\n",
    "    df = pd.read_csv(csv_file_path)\n",
    "    \n",
    "    # Initialize a list to store the accumulated reward for each row\n",
    "    accumulated_rewards = []\n",
    "    episode_lengths = []\n",
    "    \n",
    "    # Iterate through the rows of the DataFrame\n",
    "    for index, row in df.iterrows():\n",
    "        # Extract necessary columns\n",
    "        belief_idx = row['belief_idx']\n",
    "        state_idx = row['state_idx']\n",
    "        help_config_idx_local = row['help_config_idx_local']\n",
    "        conducted_datetime_stamp = row['conducted_datetime_stamp']\n",
    "        \n",
    "        # Define the path to the folder and the .pkl file\n",
    "        folder_path = os.path.join(experiments_folder, conducted_datetime_stamp)\n",
    "        pkl_file_path = os.path.join(folder_path, 'results.pkl')  # Assuming the pkl file name\n",
    "        \n",
    "        res = ExperimentResults.load(pkl_file_path)\n",
    "        \n",
    "        # Check if the .pkl file exists\n",
    "        if res is not None:\n",
    "            accumulated_rewards.append(res.total_reward)\n",
    "            episode_lengths.append(len(res.rewards))\n",
    "\n",
    "        else:\n",
    "            # If the pkl file doesn't exist, append 0 or any default value for reward\n",
    "            accumulated_rewards.append(0)\n",
    "            episode_lengths.append(0)\n",
    "            \n",
    "    # Add the accumulated rewards to the DataFrame\n",
    "    df['accumulated_rewards'] = accumulated_rewards\n",
    "    df['episode_lengths'] = episode_lengths\n",
    "    \n",
    "    \n",
    "    return df\n"
   ],
   "outputs": [],
   "execution_count": 64
  },
  {
   "metadata": {
    "ExecuteTime": {
     "end_time": "2024-09-17T09:26:06.609291Z",
     "start_time": "2024-09-17T09:26:05.338876Z"
    }
   },
   "cell_type": "code",
   "source": [
    "#build a result table for pouct with 2000 depth policy\n",
    "\n",
    "# Define file paths\n",
    "csv_file_path = \"/home/clair01/PycharmProjects/voa-pomdp/experiments_lab/configurations/experiments_4_blocks.csv\"\n",
    "\n",
    "experiments_4_blocks_2000_policy_result = result_table(csv_file_path)\n",
    "\n",
    "# Save to CSV\n",
    "experiments_4_blocks_2000_policy_result.to_csv('experiments_4_blocks_2000_policy_result.csv')"
   ],
   "id": "60ebdce948772960",
   "outputs": [],
   "execution_count": 65
  },
  {
   "metadata": {
    "ExecuteTime": {
     "end_time": "2024-09-17T09:26:20.659308Z",
     "start_time": "2024-09-17T09:26:19.421586Z"
    }
   },
   "cell_type": "code",
   "source": [
    "#build a result table for pouct with 20 depth policy\n",
    "\n",
    "# Define file paths\n",
    "csv_file_path = \"/home/clair01/PycharmProjects/voa-pomdp/experiments_lab/configurations/experiments_4_blocks_shallow_policy.csv\"\n",
    "\n",
    "experiments_4_blocks_shallow_policy_result = result_table(csv_file_path)\n",
    "\n",
    "experiments_4_blocks_shallow_policy_result.to_csv('experiments_4_blocks_shallow_policy_result.csv')\n"
   ],
   "id": "b533e352c3f6298d",
   "outputs": [],
   "execution_count": 67
  },
  {
   "cell_type": "code",
   "source": [
    "#build a result table for handmade policy with 20 depth policy\n",
    "\n",
    "# Define file paths\n",
    "csv_file_path = \"/home/clair01/PycharmProjects/voa-pomdp/experiments_lab/configurations/experiments_4_blocks_handmade_policy.csv\"\n",
    "\n",
    "eexperiments_4_blocks_handmade_policy_result = result_table(csv_file_path)\n",
    "\n",
    "eexperiments_4_blocks_handmade_policy_result.to_csv('experiments_4_blocks_handmade_policy_result.csv')"
   ],
   "metadata": {
    "collapsed": false,
    "ExecuteTime": {
     "end_time": "2024-09-17T09:26:24.003366Z",
     "start_time": "2024-09-17T09:26:22.651680Z"
    }
   },
   "id": "4c0feae7d3b3d2fd",
   "outputs": [],
   "execution_count": 68
  },
  {
   "cell_type": "markdown",
   "source": [
    "1. for each state,belief compute the value difference for each helping action (new table: belief, state, helping-action, value diff)\n",
    "2. for each belief and helping action, compute the mean value difference over state and also the std\n",
    "3. plot histogram of the std's (there are n_beliefs x n_helping_actions stds)\n",
    "    that will let us know how much variance over initial states\n",
    "\n",
    "4. compute the mean accumulated reward over all experiments for each helping configs (including no help).\n",
    "    it would be useful to plot 2-4 images of detections from experiments for each  helping config, next to the accumulated reward\n",
    "\n",
    "5. add to the tables above another column: episode length, and for each helping config compute how many experiments ended in less than 20 steps.\n",
    "   plot histogram where x-axis is episode length and y-axis is mean accumulated reward + confidence interval\n",
    "   that would be useful to make sure that episodes that ended early were generally more successful although blocks may fall from the tower\n",
    "\n",
    "6. bar plot of mean value difference for each helping config, for each policy (3 bars for 3 policies 1 near each other)\n",
    "\n",
    "7.  bar plot of mean value difference for each helping config, mean over all policies, but different bar for each of the two initial belief\n",
    "   that will let us know how different were the results for different initial beliefs and let us know if we need to do more experiments for some beliefs\n"
   ],
   "metadata": {
    "collapsed": false
   },
   "id": "6ebb72c49bc03c70"
  },
  {
   "cell_type": "markdown",
   "source": [],
   "metadata": {
    "collapsed": false
   },
   "id": "8d3127e578cd59ec"
  },
  {
   "cell_type": "code",
   "execution_count": null,
   "outputs": [],
   "source": [],
   "metadata": {
    "collapsed": false
   },
   "id": "5670b5e76f9610d2"
  }
 ],
 "metadata": {
  "kernelspec": {
   "display_name": "Python 3",
   "language": "python",
   "name": "python3"
  },
  "language_info": {
   "codemirror_mode": {
    "name": "ipython",
    "version": 2
   },
   "file_extension": ".py",
   "mimetype": "text/x-python",
   "name": "python",
   "nbconvert_exporter": "python",
   "pygments_lexer": "ipython2",
   "version": "2.7.6"
  }
 },
 "nbformat": 4,
 "nbformat_minor": 5
}
